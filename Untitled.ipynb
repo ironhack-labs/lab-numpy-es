{
 "cells": [
  {
   "cell_type": "code",
   "execution_count": 1,
   "id": "4a3b427b-2fbb-4f33-b38f-4869a1f05cc5",
   "metadata": {},
   "outputs": [],
   "source": [
    "import numpy as np"
   ]
  },
  {
   "cell_type": "code",
   "execution_count": 2,
   "id": "bf0518f7-564c-4af6-a03b-927d4c8183cc",
   "metadata": {},
   "outputs": [
    {
     "name": "stdout",
     "output_type": "stream",
     "text": [
      "Versión de Numpy: 2.2.2\n",
      "Build Dependencies:\n",
      "  blas:\n",
      "    detection method: system\n",
      "    found: true\n",
      "    include directory: unknown\n",
      "    lib directory: unknown\n",
      "    name: accelerate\n",
      "    openblas configuration: unknown\n",
      "    pc file directory: unknown\n",
      "    version: unknown\n",
      "  lapack:\n",
      "    detection method: system\n",
      "    found: true\n",
      "    include directory: unknown\n",
      "    lib directory: unknown\n",
      "    name: accelerate\n",
      "    openblas configuration: unknown\n",
      "    pc file directory: unknown\n",
      "    version: unknown\n",
      "Compilers:\n",
      "  c:\n",
      "    commands: cc\n",
      "    linker: ld64\n",
      "    name: clang\n",
      "    version: 15.0.0\n",
      "  c++:\n",
      "    commands: c++\n",
      "    linker: ld64\n",
      "    name: clang\n",
      "    version: 15.0.0\n",
      "  cython:\n",
      "    commands: cython\n",
      "    linker: cython\n",
      "    name: cython\n",
      "    version: 3.0.11\n",
      "Machine Information:\n",
      "  build:\n",
      "    cpu: aarch64\n",
      "    endian: little\n",
      "    family: aarch64\n",
      "    system: darwin\n",
      "  host:\n",
      "    cpu: aarch64\n",
      "    endian: little\n",
      "    family: aarch64\n",
      "    system: darwin\n",
      "Python Information:\n",
      "  path: /private/var/folders/84/5079cppj57s0lzywhyzcxkjc0000gn/T/build-env-jexsz2ps/bin/python\n",
      "  version: '3.12'\n",
      "SIMD Extensions:\n",
      "  baseline:\n",
      "  - NEON\n",
      "  - NEON_FP16\n",
      "  - NEON_VFPV4\n",
      "  - ASIMD\n",
      "  found:\n",
      "  - ASIMDHP\n",
      "  not found:\n",
      "  - ASIMDFHM\n",
      "\n"
     ]
    }
   ],
   "source": [
    "print(\"Versión de Numpy:\", np.__version__)\n",
    "np.show_config()"
   ]
  },
  {
   "cell_type": "code",
   "execution_count": 3,
   "id": "b7e35f2f-26ae-4887-bd26-d1314b9ad9c3",
   "metadata": {},
   "outputs": [],
   "source": [
    "a = np.random.random((2, 3, 5))"
   ]
  },
  {
   "cell_type": "code",
   "execution_count": 4,
   "id": "303426e1-a31d-4a27-b94d-8e72b93d457b",
   "metadata": {},
   "outputs": [
    {
     "name": "stdout",
     "output_type": "stream",
     "text": [
      "\n",
      "Array a:\n",
      "[[[0.01122607 0.14374416 0.05549063 0.49972925 0.35791686]\n",
      "  [0.80071337 0.66093297 0.91895483 0.34838548 0.11400443]\n",
      "  [0.57675869 0.17377863 0.5007251  0.5434889  0.49692678]]\n",
      "\n",
      " [[0.63683943 0.46096616 0.91426954 0.51508917 0.52842475]\n",
      "  [0.30646784 0.31527515 0.03435644 0.94103355 0.85235986]\n",
      "  [0.18481951 0.28038175 0.55566151 0.16455659 0.1892707 ]]]\n"
     ]
    }
   ],
   "source": [
    "print(\"\\nArray a:\")\n",
    "print(a)"
   ]
  },
  {
   "cell_type": "code",
   "execution_count": 5,
   "id": "7fad11dd-227a-4ded-bb88-e132385b9251",
   "metadata": {},
   "outputs": [],
   "source": [
    "b = np.ones((5, 2, 3))"
   ]
  },
  {
   "cell_type": "code",
   "execution_count": 6,
   "id": "a5484702-64f6-45c5-adff-58de95ff9e58",
   "metadata": {},
   "outputs": [
    {
     "name": "stdout",
     "output_type": "stream",
     "text": [
      "\n",
      "Array b:\n",
      "[[[1. 1. 1.]\n",
      "  [1. 1. 1.]]\n",
      "\n",
      " [[1. 1. 1.]\n",
      "  [1. 1. 1.]]\n",
      "\n",
      " [[1. 1. 1.]\n",
      "  [1. 1. 1.]]\n",
      "\n",
      " [[1. 1. 1.]\n",
      "  [1. 1. 1.]]\n",
      "\n",
      " [[1. 1. 1.]\n",
      "  [1. 1. 1.]]]\n"
     ]
    }
   ],
   "source": [
    "print(\"\\nArray b:\")\n",
    "print(b)"
   ]
  },
  {
   "cell_type": "code",
   "execution_count": 7,
   "id": "c8dca777-b44a-4a34-8da8-1de5eee6027e",
   "metadata": {},
   "outputs": [
    {
     "name": "stdout",
     "output_type": "stream",
     "text": [
      "\n",
      "¿Tienen a y b el mismo tamaño?\n",
      "Tamaño de a: 30\n",
      "Tamaño de b: 30\n",
      "¿Son iguales? True\n"
     ]
    }
   ],
   "source": [
    "print(\"\\n¿Tienen a y b el mismo tamaño?\")\n",
    "print(\"Tamaño de a:\", a.size)\n",
    "print(\"Tamaño de b:\", b.size)\n",
    "print(\"¿Son iguales?\", a.size == b.size)"
   ]
  },
  {
   "cell_type": "code",
   "execution_count": 8,
   "id": "290b0248-d93f-4898-bb64-3e27509f1f9f",
   "metadata": {},
   "outputs": [
    {
     "name": "stdout",
     "output_type": "stream",
     "text": [
      "\n",
      "Forma de a: (2, 3, 5)\n",
      "Forma de b: (5, 2, 3)\n",
      "¿Se pueden sumar? False\n"
     ]
    }
   ],
   "source": [
    "print(\"\\nForma de a:\", a.shape)\n",
    "print(\"Forma de b:\", b.shape)\n",
    "print(\"¿Se pueden sumar?\", a.shape == b.shape)"
   ]
  },
  {
   "cell_type": "code",
   "execution_count": 9,
   "id": "14e192ff-88b3-42cd-8132-ed481919f969",
   "metadata": {},
   "outputs": [
    {
     "name": "stdout",
     "output_type": "stream",
     "text": [
      "\n",
      "Array c (b transpuesto):\n",
      "[[[1. 1. 1. 1. 1.]\n",
      "  [1. 1. 1. 1. 1.]\n",
      "  [1. 1. 1. 1. 1.]]\n",
      "\n",
      " [[1. 1. 1. 1. 1.]\n",
      "  [1. 1. 1. 1. 1.]\n",
      "  [1. 1. 1. 1. 1.]]]\n",
      "Forma de c: (2, 3, 5)\n"
     ]
    }
   ],
   "source": [
    "c = b.transpose(1, 2, 0)\n",
    "print(\"\\nArray c (b transpuesto):\")\n",
    "print(c)\n",
    "print(\"Forma de c:\", c.shape)"
   ]
  },
  {
   "cell_type": "code",
   "execution_count": 10,
   "id": "6c7e945b-2eb8-438b-8dbf-cdb702f6eef5",
   "metadata": {},
   "outputs": [
    {
     "name": "stdout",
     "output_type": "stream",
     "text": [
      "\n",
      "Array d (a + c):\n",
      "[[[1.01122607 1.14374416 1.05549063 1.49972925 1.35791686]\n",
      "  [1.80071337 1.66093297 1.91895483 1.34838548 1.11400443]\n",
      "  [1.57675869 1.17377863 1.5007251  1.5434889  1.49692678]]\n",
      "\n",
      " [[1.63683943 1.46096616 1.91426954 1.51508917 1.52842475]\n",
      "  [1.30646784 1.31527515 1.03435644 1.94103355 1.85235986]\n",
      "  [1.18481951 1.28038175 1.55566151 1.16455659 1.1892707 ]]]\n"
     ]
    }
   ],
   "source": [
    "d = a + c\n",
    "print(\"\\nArray d (a + c):\")\n",
    "print(d)"
   ]
  },
  {
   "cell_type": "code",
   "execution_count": 11,
   "id": "efecef48-1137-4254-9980-8a955e6ad36b",
   "metadata": {},
   "outputs": [
    {
     "name": "stdout",
     "output_type": "stream",
     "text": [
      "\n",
      "Array a:\n",
      "[[[0.01122607 0.14374416 0.05549063 0.49972925 0.35791686]\n",
      "  [0.80071337 0.66093297 0.91895483 0.34838548 0.11400443]\n",
      "  [0.57675869 0.17377863 0.5007251  0.5434889  0.49692678]]\n",
      "\n",
      " [[0.63683943 0.46096616 0.91426954 0.51508917 0.52842475]\n",
      "  [0.30646784 0.31527515 0.03435644 0.94103355 0.85235986]\n",
      "  [0.18481951 0.28038175 0.55566151 0.16455659 0.1892707 ]]]\n",
      "\n",
      "Array d:\n",
      "[[[1.01122607 1.14374416 1.05549063 1.49972925 1.35791686]\n",
      "  [1.80071337 1.66093297 1.91895483 1.34838548 1.11400443]\n",
      "  [1.57675869 1.17377863 1.5007251  1.5434889  1.49692678]]\n",
      "\n",
      " [[1.63683943 1.46096616 1.91426954 1.51508917 1.52842475]\n",
      "  [1.30646784 1.31527515 1.03435644 1.94103355 1.85235986]\n",
      "  [1.18481951 1.28038175 1.55566151 1.16455659 1.1892707 ]]]\n"
     ]
    }
   ],
   "source": [
    "print(\"\\nArray a:\")\n",
    "print(a)\n",
    "print(\"\\nArray d:\")\n",
    "print(d)"
   ]
  },
  {
   "cell_type": "code",
   "execution_count": 12,
   "id": "4dc4806a-cdd1-4c5b-9e0a-82751a4aab8f",
   "metadata": {},
   "outputs": [
    {
     "name": "stdout",
     "output_type": "stream",
     "text": [
      "\n",
      "Array e (a * c):\n",
      "[[[0.01122607 0.14374416 0.05549063 0.49972925 0.35791686]\n",
      "  [0.80071337 0.66093297 0.91895483 0.34838548 0.11400443]\n",
      "  [0.57675869 0.17377863 0.5007251  0.5434889  0.49692678]]\n",
      "\n",
      " [[0.63683943 0.46096616 0.91426954 0.51508917 0.52842475]\n",
      "  [0.30646784 0.31527515 0.03435644 0.94103355 0.85235986]\n",
      "  [0.18481951 0.28038175 0.55566151 0.16455659 0.1892707 ]]]\n"
     ]
    }
   ],
   "source": [
    "e = a * c\n",
    "print(\"\\nArray e (a * c):\")\n",
    "print(e)"
   ]
  },
  {
   "cell_type": "code",
   "execution_count": 13,
   "id": "ab84cfae-e2cc-4fc1-90ae-280e601db4d5",
   "metadata": {},
   "outputs": [
    {
     "name": "stdout",
     "output_type": "stream",
     "text": [
      "\n",
      "¿Es e igual a a? True\n"
     ]
    }
   ],
   "source": [
    "print(\"\\n¿Es e igual a a?\", np.array_equal(e, a))"
   ]
  },
  {
   "cell_type": "code",
   "execution_count": 14,
   "id": "64879fe5-11af-4b07-ab21-0e98d2c3a9e8",
   "metadata": {},
   "outputs": [
    {
     "name": "stdout",
     "output_type": "stream",
     "text": [
      "\n",
      "d_max: 1.9410335523641349\n",
      "d_min: 1.0112260745589934\n",
      "d_mean: 1.4360849374247247\n"
     ]
    }
   ],
   "source": [
    "d_max = d.max()\n",
    "d_min = d.min()\n",
    "d_mean = d.mean()\n",
    "print(\"\\nd_max:\", d_max)\n",
    "print(\"d_min:\", d_min)\n",
    "print(\"d_mean:\", d_mean)"
   ]
  },
  {
   "cell_type": "code",
   "execution_count": 15,
   "id": "ec68723a-e67a-4920-ae0f-fe8da50fd008",
   "metadata": {},
   "outputs": [
    {
     "name": "stdout",
     "output_type": "stream",
     "text": [
      "\n",
      "Array f vacío con la misma forma que d:\n",
      "[[[0.01122607 0.14374416 0.05549063 0.49972925 0.35791686]\n",
      "  [0.80071337 0.66093297 0.91895483 0.34838548 0.11400443]\n",
      "  [0.57675869 0.17377863 0.5007251  0.5434889  0.49692678]]\n",
      "\n",
      " [[0.63683943 0.46096616 0.91426954 0.51508917 0.52842475]\n",
      "  [0.30646784 0.31527515 0.03435644 0.94103355 0.85235986]\n",
      "  [0.18481951 0.28038175 0.55566151 0.16455659 0.1892707 ]]]\n"
     ]
    }
   ],
   "source": [
    "f = np.empty(d.shape)\n",
    "print(\"\\nArray f vacío con la misma forma que d:\")\n",
    "print(f)"
   ]
  },
  {
   "cell_type": "code",
   "execution_count": 16,
   "id": "8928bd64-ccbe-4a43-8da1-e588bf047a7b",
   "metadata": {},
   "outputs": [
    {
     "name": "stdout",
     "output_type": "stream",
     "text": [
      "\n",
      "Array f con etiquetas:\n",
      "[[[  0.  25.  25.  75.  25.]\n",
      "  [ 75.  75.  75.  25.  25.]\n",
      "  [ 75.  25.  75.  75.  75.]]\n",
      "\n",
      " [[ 75.  75.  75.  75.  75.]\n",
      "  [ 25.  25.  25. 100.  75.]\n",
      "  [ 25.  25.  75.  25.  25.]]]\n"
     ]
    }
   ],
   "source": [
    "f = np.empty(d.shape)\n",
    "\n",
    "# Recorre todos los índices de d para asignar valores en f\n",
    "for i in range(d.shape[0]):\n",
    "    for j in range(d.shape[1]):\n",
    "        for k in range(d.shape[2]):\n",
    "            valor = d[i, j, k]\n",
    "            if valor == d_min:\n",
    "                f[i, j, k] = 0\n",
    "            elif valor == d_max:\n",
    "                f[i, j, k] = 100\n",
    "            elif valor == d_mean:\n",
    "                f[i, j, k] = 50\n",
    "            elif d_min < valor < d_mean:\n",
    "                f[i, j, k] = 25\n",
    "            elif d_mean < valor < d_max:\n",
    "                f[i, j, k] = 75\n",
    "\n",
    "print(\"\\nArray f con etiquetas:\")\n",
    "print(f)"
   ]
  },
  {
   "cell_type": "code",
   "execution_count": 17,
   "id": "a299f303-d345-424b-b6b7-7289a2ed15fc",
   "metadata": {},
   "outputs": [
    {
     "name": "stdout",
     "output_type": "stream",
     "text": [
      "\n",
      "Array d:\n",
      "[[[1.01122607 1.14374416 1.05549063 1.49972925 1.35791686]\n",
      "  [1.80071337 1.66093297 1.91895483 1.34838548 1.11400443]\n",
      "  [1.57675869 1.17377863 1.5007251  1.5434889  1.49692678]]\n",
      "\n",
      " [[1.63683943 1.46096616 1.91426954 1.51508917 1.52842475]\n",
      "  [1.30646784 1.31527515 1.03435644 1.94103355 1.85235986]\n",
      "  [1.18481951 1.28038175 1.55566151 1.16455659 1.1892707 ]]]\n",
      "\n",
      "Array f con etiquetas:\n",
      "[[[  0.  25.  25.  75.  25.]\n",
      "  [ 75.  75.  75.  25.  25.]\n",
      "  [ 75.  25.  75.  75.  75.]]\n",
      "\n",
      " [[ 75.  75.  75.  75.  75.]\n",
      "  [ 25.  25.  25. 100.  75.]\n",
      "  [ 25.  25.  75.  25.  25.]]]\n"
     ]
    }
   ],
   "source": [
    "print(\"\\nArray d:\")\n",
    "print(d)\n",
    "\n",
    "print(\"\\nArray f con etiquetas:\")\n",
    "print(f)"
   ]
  },
  {
   "cell_type": "code",
   "execution_count": 18,
   "id": "37c6eeb0-0bb7-4aa0-a8f9-98b138e9884f",
   "metadata": {},
   "outputs": [
    {
     "name": "stdout",
     "output_type": "stream",
     "text": [
      "\n",
      "Array d:\n",
      "[[[1.01122607 1.14374416 1.05549063 1.49972925 1.35791686]\n",
      "  [1.80071337 1.66093297 1.91895483 1.34838548 1.11400443]\n",
      "  [1.57675869 1.17377863 1.5007251  1.5434889  1.49692678]]\n",
      "\n",
      " [[1.63683943 1.46096616 1.91426954 1.51508917 1.52842475]\n",
      "  [1.30646784 1.31527515 1.03435644 1.94103355 1.85235986]\n",
      "  [1.18481951 1.28038175 1.55566151 1.16455659 1.1892707 ]]]\n",
      "\n",
      "Array f con etiquetas de cadena:\n",
      "[[['A' 'B' 'B' 'D' 'B']\n",
      "  ['D' 'D' 'D' 'B' 'B']\n",
      "  ['D' 'B' 'D' 'D' 'D']]\n",
      "\n",
      " [['D' 'D' 'D' 'D' 'D']\n",
      "  ['B' 'B' 'B' 'E' 'D']\n",
      "  ['B' 'B' 'D' 'B' 'B']]]\n"
     ]
    }
   ],
   "source": [
    "f = np.empty(d.shape, dtype=object)\n",
    "\n",
    "# Recorre todos los índices de d para asignar valores en f con etiquetas de cadena\n",
    "for i in range(d.shape[0]):\n",
    "    for j in range(d.shape[1]):\n",
    "        for k in range(d.shape[2]):\n",
    "            valor = d[i, j, k]\n",
    "            if valor == d_min:\n",
    "                f[i, j, k] = 'A'\n",
    "            elif valor == d_max:\n",
    "                f[i, j, k] = 'E'\n",
    "            elif valor == d_mean:\n",
    "                f[i, j, k] = 'C'\n",
    "            elif d_min < valor < d_mean:\n",
    "                f[i, j, k] = 'B'\n",
    "            elif d_mean < valor < d_max:\n",
    "                f[i, j, k] = 'D'\n",
    "\n",
    "print(\"\\nArray d:\")\n",
    "print(d)\n",
    "\n",
    "print(\"\\nArray f con etiquetas de cadena:\")\n",
    "print(f)"
   ]
  },
  {
   "cell_type": "code",
   "execution_count": null,
   "id": "864067b2-d2e2-46be-ad76-ecc8300f1829",
   "metadata": {},
   "outputs": [],
   "source": []
  }
 ],
 "metadata": {
  "kernelspec": {
   "display_name": "Python 3 (ipykernel)",
   "language": "python",
   "name": "python3"
  },
  "language_info": {
   "codemirror_mode": {
    "name": "ipython",
    "version": 3
   },
   "file_extension": ".py",
   "mimetype": "text/x-python",
   "name": "python",
   "nbconvert_exporter": "python",
   "pygments_lexer": "ipython3",
   "version": "3.12.8"
  }
 },
 "nbformat": 4,
 "nbformat_minor": 5
}
