{
 "cells": [
  {
   "cell_type": "code",
   "execution_count": 5,
   "id": "b57463f6-5970-4120-b384-1759dcfed3a8",
   "metadata": {},
   "outputs": [
    {
     "name": "stdout",
     "output_type": "stream",
     "text": [
      "1.26.4\n",
      "1.26.4\n"
     ]
    }
   ],
   "source": [
    "#1. Importa el paquete NUMPY bajo el nombre np.\n",
    "import numpy as np\n",
    "\n",
    "#2. Imprime la versión de NUMPY y la configuración.\n",
    "print(np.__version__)\n",
    "print(np.version.version)"
   ]
  },
  {
   "cell_type": "code",
   "execution_count": 41,
   "id": "9813ecdf-00e2-4215-a997-86fa4b94eee4",
   "metadata": {},
   "outputs": [
    {
     "name": "stdout",
     "output_type": "stream",
     "text": [
      "[[[0.05908351 0.23205106 0.53543658 0.9410648  0.36262701]\n",
      "  [0.5585784  0.42559155 0.76208835 0.08787945 0.02058251]\n",
      "  [0.3101381  0.22173965 0.7755717  0.4780312  0.23482826]]\n",
      "\n",
      " [[0.4269703  0.18987801 0.27560441 0.91262665 0.49551542]\n",
      "  [0.44476588 0.67306961 0.87724499 0.05164107 0.90481448]\n",
      "  [0.65483119 0.70347144 0.0843185  0.33017225 0.48575428]]]\n"
     ]
    },
    {
     "data": {
      "text/plain": [
       "(2, 3, 5)"
      ]
     },
     "execution_count": 41,
     "metadata": {},
     "output_type": "execute_result"
    }
   ],
   "source": [
    "#3. Genera un array tridimensional de 2x3x5 con valores aleatorios. Asigna el array a la variable \"a\"\n",
    "# Desafío: hay al menos tres maneras fáciles que usan numpy para generar arrays aleatorios. ¿Cuántas formas puedes encontrar?\n",
    "a = np.random.randint(0,10,size=(2,3,5))\n",
    "a = np.random.random((2,3,5))\n",
    "\n",
    "#4. Imprime a.\n",
    "print(a)\n",
    "a.shape"
   ]
  },
  {
   "cell_type": "code",
   "execution_count": 81,
   "id": "3831d34c-7580-47a5-bed2-b1c7e465ca59",
   "metadata": {
    "scrolled": true
   },
   "outputs": [
    {
     "name": "stdout",
     "output_type": "stream",
     "text": [
      "[[[1. 1.]\n",
      "  [1. 1.]\n",
      "  [1. 1.]]\n",
      "\n",
      " [[1. 1.]\n",
      "  [1. 1.]\n",
      "  [1. 1.]]\n",
      "\n",
      " [[1. 1.]\n",
      "  [1. 1.]\n",
      "  [1. 1.]]\n",
      "\n",
      " [[1. 1.]\n",
      "  [1. 1.]\n",
      "  [1. 1.]]\n",
      "\n",
      " [[1. 1.]\n",
      "  [1. 1.]\n",
      "  [1. 1.]]]\n"
     ]
    }
   ],
   "source": [
    "#5. Crea un array tridimensional de 5x3x2 con todos los valores igual a 1.\n",
    "#Asigna el array a la variable \"b\"\n",
    "b = np.random.randint(1,2,size=(5,3,2))\n",
    "b = np.ones((5,3,2))\n",
    "\n",
    "#6. Imprime b.\n",
    "print(b)"
   ]
  },
  {
   "cell_type": "code",
   "execution_count": 83,
   "id": "40b09502-5d3f-4f20-b018-130ce273764b",
   "metadata": {},
   "outputs": [
    {
     "name": "stdout",
     "output_type": "stream",
     "text": [
      "a y b son de tamaño diferente\n"
     ]
    },
    {
     "data": {
      "text/plain": [
       "'No porque son de distinta forma'"
      ]
     },
     "execution_count": 83,
     "metadata": {},
     "output_type": "execute_result"
    }
   ],
   "source": [
    "#7. ¿Tienen a y b el mismo tamaño? ¿Cómo lo demuestras en código Python?\n",
    "print(\"a y b son del mismo tamaño\" if a.shape==b.shape else \"a y b son de tamaño diferente\")\n",
    "\n",
    "#8. ¿Es posible sumar a y b? ¿Por qué sí o por qué no?\n",
    "'''No porque son de distinta forma'''"
   ]
  },
  {
   "cell_type": "code",
   "execution_count": 87,
   "id": "b326c677-16bb-49e3-a8bd-47aaec16f847",
   "metadata": {
    "scrolled": true
   },
   "outputs": [
    {
     "data": {
      "text/plain": [
       "array([[[1.05908351, 1.23205106, 1.53543658, 1.9410648 , 1.36262701],\n",
       "        [1.5585784 , 1.42559155, 1.76208835, 1.08787945, 1.02058251],\n",
       "        [1.3101381 , 1.22173965, 1.7755717 , 1.4780312 , 1.23482826]],\n",
       "\n",
       "       [[1.4269703 , 1.18987801, 1.27560441, 1.91262665, 1.49551542],\n",
       "        [1.44476588, 1.67306961, 1.87724499, 1.05164107, 1.90481448],\n",
       "        [1.65483119, 1.70347144, 1.0843185 , 1.33017225, 1.48575428]]])"
      ]
     },
     "execution_count": 87,
     "metadata": {},
     "output_type": "execute_result"
    }
   ],
   "source": [
    "#9. Transpone b para que tenga la misma estructura que a (es decir, se convierta en un array de 2x3x5). Asigna el array transpuesto a la variable \"c\".\n",
    "c = np.transpose(b)\n",
    "\n",
    "#10. Intenta sumar a y c. Ahora debería funcionar. Asigna la suma a la variable \"d\". Pero, ¿por qué funciona ahora?\n",
    "'''Funciona porque son de la misma forma'''\n",
    "d = a + c\n",
    "d"
   ]
  },
  {
   "cell_type": "code",
   "execution_count": 91,
   "id": "2787153e-e269-4a89-b42a-403074a71ea0",
   "metadata": {
    "scrolled": true
   },
   "outputs": [
    {
     "data": {
      "text/plain": [
       "(array([[[0.05908351, 0.23205106, 0.53543658, 0.9410648 , 0.36262701],\n",
       "         [0.5585784 , 0.42559155, 0.76208835, 0.08787945, 0.02058251],\n",
       "         [0.3101381 , 0.22173965, 0.7755717 , 0.4780312 , 0.23482826]],\n",
       " \n",
       "        [[0.4269703 , 0.18987801, 0.27560441, 0.91262665, 0.49551542],\n",
       "         [0.44476588, 0.67306961, 0.87724499, 0.05164107, 0.90481448],\n",
       "         [0.65483119, 0.70347144, 0.0843185 , 0.33017225, 0.48575428]]]),\n",
       " array([[[0.05908351, 0.23205106, 0.53543658, 0.9410648 , 0.36262701],\n",
       "         [0.5585784 , 0.42559155, 0.76208835, 0.08787945, 0.02058251],\n",
       "         [0.3101381 , 0.22173965, 0.7755717 , 0.4780312 , 0.23482826]],\n",
       " \n",
       "        [[0.4269703 , 0.18987801, 0.27560441, 0.91262665, 0.49551542],\n",
       "         [0.44476588, 0.67306961, 0.87724499, 0.05164107, 0.90481448],\n",
       "         [0.65483119, 0.70347144, 0.0843185 , 0.33017225, 0.48575428]]]))"
      ]
     },
     "execution_count": 91,
     "metadata": {},
     "output_type": "execute_result"
    }
   ],
   "source": [
    "#11. Imprime a y d. ¿Notas la diferencia y la relación entre los dos arrays en términos de los valores? Explica.\n",
    "a,d\n",
    "'''Se han sumado término a término a y c, y d tiene una unidad más en cada uno'''\n",
    "\n",
    "#12. Multiplica a y c. Asigna el resultado a e.\n",
    "e = a * c\n",
    "\n",
    "#13. ¿Es e igual a a? ¿Por qué sí o por qué no?\n",
    "e,a\n",
    "'''Se han multiplicado los términos por 1 y se quedan igual'''"
   ]
  },
  {
   "cell_type": "code",
   "execution_count": 235,
   "id": "4c517961-6cd5-400e-b8c1-39e581e5235e",
   "metadata": {},
   "outputs": [
    {
     "name": "stdout",
     "output_type": "stream",
     "text": [
      "Max: 1.992021173100143, Min: 1.0271662223029763, Med: 1.555209271811005\n"
     ]
    },
    {
     "data": {
      "text/plain": [
       "array([[[1.82123461, 1.43820265, 1.93399764, 1.13396298, 1.50555649],\n",
       "        [1.06239883, 1.46744725, 1.39865522, 1.45118078, 1.99202117],\n",
       "        [1.7933389 , 1.73016912, 1.24598112, 1.61847293, 1.97979296]],\n",
       "\n",
       "       [[1.8669301 , 1.1021494 , 1.2855963 , 1.93225246, 1.87184676],\n",
       "        [1.58220099, 1.82545495, 1.58554084, 1.79792769, 1.02716622],\n",
       "        [1.29991475, 1.08784043, 1.57755371, 1.33030504, 1.91118587]]])"
      ]
     },
     "execution_count": 235,
     "metadata": {},
     "output_type": "execute_result"
    }
   ],
   "source": [
    "#14. Identifica los valores máximos, mínimos y medios en d. Asigna esos valores a las variables \"d_max\", \"d_min\" y \"d_mean\"\n",
    "d_max = np.max(d)\n",
    "d_min = np.min(d)\n",
    "d_mean = np.mean(d)\n",
    "print(f\"Max: {d_max}, Min: {d_min}, Med: {d_mean}\")\n",
    "d"
   ]
  },
  {
   "cell_type": "code",
   "execution_count": 237,
   "id": "5b8ccd27-c87a-461f-834e-4e1d08adf546",
   "metadata": {},
   "outputs": [
    {
     "name": "stdout",
     "output_type": "stream",
     "text": [
      "[[[1.82123461 1.43820265 1.93399764 1.13396298 1.50555649]\n",
      "  [1.06239883 1.46744725 1.39865522 1.45118078 1.99202117]\n",
      "  [1.7933389  1.73016912 1.24598112 1.61847293 1.97979296]]\n",
      "\n",
      " [[1.8669301  1.1021494  1.2855963  1.93225246 1.87184676]\n",
      "  [1.58220099 1.82545495 1.58554084 1.79792769 1.02716622]\n",
      "  [1.29991475 1.08784043 1.57755371 1.33030504 1.91118587]]]\n",
      "[[['B' 'A' 'B' 'A' 'A']\n",
      "  ['A' 'A' 'A' 'A' 'E']\n",
      "  ['B' 'B' 'A' 'B' 'B']]\n",
      "\n",
      " [['B' 'A' 'A' 'B' 'B']\n",
      "  ['B' 'B' 'B' 'B' 'D']\n",
      "  ['A' 'A' 'B' 'A' 'B']]]\n"
     ]
    }
   ],
   "source": [
    "#15. Ahora queremos etiquetar los valores en d. Primero crea un array vacío \"f\" con la misma forma (es decir, 2x3x5) que d usando `np.empty`.\n",
    "f = np.empty([2,3,5], dtype=\"str\")\n",
    "\n",
    "#16. Rellena los valores en f. Para cada valor en d ...\n",
    "\"\"\"\n",
    "si es mayor que d_min pero menor que d_mean, asigna 25 al valor correspondiente en f.\n",
    "Si un valor en d es mayor que d_mean pero menor que d_max, asigna 75 al valor correspondiente en f.\n",
    "Si un valor es igual a d_mean, asigna 50 al valor correspondiente en f.\n",
    "Asigna 0 al valor correspondiente(s) en f para d_min en d.\n",
    "Asigna 100 al valor correspondiente(s) en f para d_max en d.\n",
    "Al final, f debería tener solo los siguientes valores: 0, 25, 50, 75 y 100.\n",
    "Nota: no necesitas usar Numpy en esta pregunta.\n",
    "\"\"\"\n",
    "\n",
    "f = np.reshape(f,-1)\n",
    "i = 0\n",
    "for dato in np.reshape(d,-1):\n",
    "    if dato > d_min and dato < d_mean:\n",
    "        f[i] = 'A'\n",
    "    elif dato > d_mean and dato < d_max:\n",
    "        f[i] = 'B'\n",
    "    elif dato == d_mean: \n",
    "        f[i] = 'C'\n",
    "    elif dato == d_min: \n",
    "        f[i] = 'D'  \n",
    "    elif dato == d_max: \n",
    "        f[i] = 'E'        \n",
    "    i += 1\n",
    "    \n",
    "f = np.reshape(f,d.shape)\n",
    "print(d)\n",
    "print(f)"
   ]
  },
  {
   "cell_type": "code",
   "execution_count": 245,
   "id": "6b2377bc-c8c7-44da-a75a-fcd11b2e6d8d",
   "metadata": {},
   "outputs": [
    {
     "name": "stdout",
     "output_type": "stream",
     "text": [
      "1.26.4\n",
      "\n",
      "[[[1.31763592e-01 1.36251610e-01 2.87135314e-01 9.81848996e-01\n",
      "   9.63796581e-01]\n",
      "  [5.83572627e-04 6.00967351e-01 4.73995642e-01 7.65502479e-01\n",
      "   7.29418074e-01]\n",
      "  [9.14575314e-01 4.89959124e-01 5.86929163e-01 8.04320022e-01\n",
      "   6.48451758e-01]]\n",
      "\n",
      " [[5.33296665e-01 4.01363381e-01 2.19641611e-01 3.53303273e-01\n",
      "   3.91901937e-01]\n",
      "  [6.45013775e-02 2.73156984e-01 4.53237411e-01 9.31295121e-01\n",
      "   6.98439278e-01]\n",
      "  [7.86919122e-01 9.66340443e-01 4.04977799e-01 7.18238398e-01\n",
      "   7.31412594e-01]]]\n",
      "\n",
      "[[[1. 1.]\n",
      "  [1. 1.]\n",
      "  [1. 1.]]\n",
      "\n",
      " [[1. 1.]\n",
      "  [1. 1.]\n",
      "  [1. 1.]]\n",
      "\n",
      " [[1. 1.]\n",
      "  [1. 1.]\n",
      "  [1. 1.]]\n",
      "\n",
      " [[1. 1.]\n",
      "  [1. 1.]\n",
      "  [1. 1.]]\n",
      "\n",
      " [[1. 1.]\n",
      "  [1. 1.]\n",
      "  [1. 1.]]]\n",
      "\n",
      "a y b son de tamaño diferente\n",
      "\n",
      "[[[1.31763592e-01 1.36251610e-01 2.87135314e-01 9.81848996e-01\n",
      "   9.63796581e-01]\n",
      "  [5.83572627e-04 6.00967351e-01 4.73995642e-01 7.65502479e-01\n",
      "   7.29418074e-01]\n",
      "  [9.14575314e-01 4.89959124e-01 5.86929163e-01 8.04320022e-01\n",
      "   6.48451758e-01]]\n",
      "\n",
      " [[5.33296665e-01 4.01363381e-01 2.19641611e-01 3.53303273e-01\n",
      "   3.91901937e-01]\n",
      "  [6.45013775e-02 2.73156984e-01 4.53237411e-01 9.31295121e-01\n",
      "   6.98439278e-01]\n",
      "  [7.86919122e-01 9.66340443e-01 4.04977799e-01 7.18238398e-01\n",
      "   7.31412594e-01]]]\n",
      "[[[1.13176359 1.13625161 1.28713531 1.981849   1.96379658]\n",
      "  [1.00058357 1.60096735 1.47399564 1.76550248 1.72941807]\n",
      "  [1.91457531 1.48995912 1.58692916 1.80432002 1.64845176]]\n",
      "\n",
      " [[1.53329666 1.40136338 1.21964161 1.35330327 1.39190194]\n",
      "  [1.06450138 1.27315698 1.45323741 1.93129512 1.69843928]\n",
      "  [1.78691912 1.96634044 1.4049778  1.7182384  1.73141259]]]\n",
      "\n",
      "Max: 1.981848996339569, Min: 1.0005835726272008, Med: 1.5481174662628436\n",
      "\n",
      "[[[1.13176359 1.13625161 1.28713531 1.981849   1.96379658]\n",
      "  [1.00058357 1.60096735 1.47399564 1.76550248 1.72941807]\n",
      "  [1.91457531 1.48995912 1.58692916 1.80432002 1.64845176]]\n",
      "\n",
      " [[1.53329666 1.40136338 1.21964161 1.35330327 1.39190194]\n",
      "  [1.06450138 1.27315698 1.45323741 1.93129512 1.69843928]\n",
      "  [1.78691912 1.96634044 1.4049778  1.7182384  1.73141259]]]\n",
      "\n",
      "[[[ 25.  25.  25. 100.  75.]\n",
      "  [  0.  75.  25.  75.  75.]\n",
      "  [ 75.  25.  75.  75.  75.]]\n",
      "\n",
      " [[ 25.  25.  25.  25.  25.]\n",
      "  [ 25.  25.  25.  75.  75.]\n",
      "  [ 75.  75.  25.  75.  75.]]]\n",
      "[[[1.13176359 1.13625161 1.28713531 1.981849   1.96379658]\n",
      "  [1.00058357 1.60096735 1.47399564 1.76550248 1.72941807]\n",
      "  [1.91457531 1.48995912 1.58692916 1.80432002 1.64845176]]\n",
      "\n",
      " [[1.53329666 1.40136338 1.21964161 1.35330327 1.39190194]\n",
      "  [1.06450138 1.27315698 1.45323741 1.93129512 1.69843928]\n",
      "  [1.78691912 1.96634044 1.4049778  1.7182384  1.73141259]]]\n",
      "\n",
      "[[['A' 'A' 'A' 'E' 'B']\n",
      "  ['D' 'B' 'A' 'B' 'B']\n",
      "  ['B' 'A' 'B' 'B' 'B']]\n",
      "\n",
      " [['A' 'A' 'A' 'A' 'A']\n",
      "  ['A' 'A' 'A' 'B' 'B']\n",
      "  ['B' 'B' 'A' 'B' 'B']]]\n"
     ]
    }
   ],
   "source": [
    "#1. Importa el paquete NUMPY bajo el nombre np.\n",
    "import numpy as np\n",
    "\n",
    "#2. Imprime la versión de NUMPY y la configuración.\n",
    "print(np.version.version)\n",
    "print()\n",
    "\n",
    "#3. Genera un array tridimensional de 2x3x5 con valores aleatorios. Asigna el array a la variable \"a\"\n",
    "# Desafío: hay al menos tres maneras fáciles que usan numpy para generar arrays aleatorios. ¿Cuántas formas puedes encontrar?\n",
    "a = np.random.randint(0,10,size=(2,3,5))\n",
    "a = np.random.random((2,3,5))\n",
    "\n",
    "#4. Imprime a.\n",
    "print(a)\n",
    "print()\n",
    "\n",
    "#5. Crea un array tridimensional de 5x2x3 con todos los valores igual a 1.\n",
    "#Asigna el array a la variable \"b\"\n",
    "b = np.random.randint(1,2,size=(5,3,2))\n",
    "b = np.ones((5,3,2))\n",
    "\n",
    "#6. Imprime b.\n",
    "print(b)\n",
    "print()\n",
    "\n",
    "#7. ¿Tienen a y b el mismo tamaño? ¿Cómo lo demuestras en código Python?\n",
    "print(\"a y b son del mismo tamaño\" if a.shape==b.shape else \"a y b son de tamaño diferente\")\n",
    "print()\n",
    "\n",
    "#8. ¿Es posible sumar a y b? ¿Por qué sí o por qué no?\n",
    "'''No porque son de distinta forma'''\n",
    "\n",
    "#9. Transpone b para que tenga la misma estructura que a (es decir, se convierta en un array de 2x3x5). Asigna el array transpuesto a la variable \"c\".\n",
    "c = np.transpose(b)\n",
    "\n",
    "#10. Intenta sumar a y c. Ahora debería funcionar. Asigna la suma a la variable \"d\". Pero, ¿por qué funciona ahora?\n",
    "'''Funciona porque son de la misma forma'''\n",
    "d = a + c\n",
    "\n",
    "#11. Imprime a y d. ¿Notas la diferencia y la relación entre los dos arrays en términos de los valores? Explica.\n",
    "print(a)\n",
    "print(d)\n",
    "'''Se han sumado término a término a y c, y d tiene una unidad más en cada uno'''\n",
    "\n",
    "#12. Multiplica a y c. Asigna el resultado a e.\n",
    "e = a * c\n",
    "\n",
    "#13. ¿Es e igual a a? ¿Por qué sí o por qué no?\n",
    "e,a\n",
    "'''Se han multiplicado los términos por 1 y se quedan igual'''\n",
    "\n",
    "#14. Identifica los valores máximos, mínimos y medios en d. Asigna esos valores a las variables \"d_max\", \"d_min\" y \"d_mean\"\n",
    "d_max = np.max(d)\n",
    "d_min = np.min(d)\n",
    "d_mean = np.mean(d)\n",
    "print()\n",
    "print(f\"Max: {d_max}, Min: {d_min}, Med: {d_mean}\")\n",
    "print()\n",
    "\n",
    "#15. Ahora queremos etiquetar los valores en d. Primero crea un array vacío \"f\" con la misma forma (es decir, 2x3x5) que d usando `np.empty`.\n",
    "f = np.empty([2,3,5])\n",
    "\n",
    "#16. Rellena los valores en f. Para cada valor en d, si es mayor que d_min pero menor que d_mean, asigna 25 al valor correspondiente en f.\n",
    "\"\"\"\n",
    "Si un valor en d es mayor que d_mean pero menor que d_max, asigna 75 al valor correspondiente en f.\n",
    "Si un valor es igual a d_mean, asigna 50 al valor correspondiente en f.\n",
    "Asigna 0 al valor correspondiente(s) en f para d_min en d.\n",
    "Asigna 100 al valor correspondiente(s) en f para d_max en d.\n",
    "Al final, f debería tener solo los siguientes valores: 0, 25, 50, 75 y 100.\n",
    "Nota: no necesitas usar Numpy en esta pregunta.\n",
    "\"\"\"\n",
    "f = np.reshape(f,-1)\n",
    "i = 0\n",
    "for dato in np.reshape(d,-1):\n",
    "    if dato > d_min and dato < d_mean:\n",
    "        f[i] = 25\n",
    "    elif dato > d_mean and dato < d_max:\n",
    "        f[i] = 75\n",
    "    elif dato == d_mean: \n",
    "        f[i] = 50\n",
    "    elif dato == d_min: \n",
    "        f[i] = 0  \n",
    "    elif dato == d_max: \n",
    "        f[i] = 100        \n",
    "    i += 1\n",
    "\n",
    "f = np.reshape(f,d.shape)\n",
    "\n",
    "#17. Imprime d y f. ¿Tienes el f esperado?\n",
    "\"\"\"\n",
    "Por ejemplo, si tu d es:\n",
    "array([[[1.85836099, 1.67064465, 1.62576044, 1.40243961, 1.88454931],\n",
    "        [1.75354326, 1.69403643, 1.36729252, 1.61415071, 1.12104981],\n",
    "        [1.72201435, 1.1862918 , 1.87078449, 1.7726778 , 1.88180042]],\n",
    "\n",
    "       [[1.44747908, 1.31673383, 1.02000951, 1.52218947, 1.97066381],\n",
    "        [1.79129243, 1.74983003, 1.96028037, 1.85166831, 1.65450881],\n",
    "        [1.18068344, 1.9587381 , 1.00656599, 1.93402165, 1.73514584]]])\n",
    "\n",
    "Tu f debería ser:\n",
    "array([[[ 75.,  75.,  75.,  25.,  75.],\n",
    "        [ 75.,  75.,  25.,  25.,  25.],\n",
    "        [ 75.,  25.,  75.,  75.,  75.]],\n",
    "\n",
    "       [[ 25.,  25.,  25.,  25., 100.],\n",
    "        [ 75.,  75.,  75.,  75.,  75.],\n",
    "        [ 25.,  75.,   0.,  75.,  75.]]])\n",
    "\"\"\"\n",
    "print(d)\n",
    "print()\n",
    "print(f)\n",
    "\n",
    "#18. Pregunta de bonificación: \n",
    "\"\"\"\n",
    "En lugar de usar números (es decir, 0, 25, 50, 75 y 100), ¿cómo usar valores de cadena \n",
    "(\"A\", \"B\", \"C\", \"D\" y \"E\") para etiquetar los elementos del array? Esperas el resultado sea:\n",
    "array([[[ 'D',  'D',  'D',  'B',  'D'],\n",
    "        [ 'D',  'D',  'B',  'B',  'B'],\n",
    "        [ 'D',  'B',  'D',  'D',  'D']],\n",
    "\n",
    "       [[ 'B',  'B',  'B',  'B',  'E'],\n",
    "        [ 'D',  'D',  'D',  'D',  'D'],\n",
    "        [ 'B',  'D',   'A',  'D', 'D']]])\n",
    "De nuevo, no necesitas Numpy en esta pregunta.\n",
    "\"\"\"\n",
    "g = np.empty([2,3,5], dtype=\"str\")\n",
    "\n",
    "g = np.reshape(g,-1)\n",
    "i = 0\n",
    "for dato in np.reshape(d,-1):\n",
    "    if dato > d_min and dato < d_mean:\n",
    "        g[i] = 'A'\n",
    "    elif dato > d_mean and dato < d_max:\n",
    "        g[i] = 'B'\n",
    "    elif dato == d_mean: \n",
    "        g[i] = 'C'\n",
    "    elif dato == d_min: \n",
    "        g[i] = 'D'  \n",
    "    elif dato == d_max: \n",
    "        g[i] = 'E'        \n",
    "    i += 1\n",
    "    \n",
    "g = np.reshape(g,d.shape)\n",
    "print(d)\n",
    "print()\n",
    "print(g)\n",
    "\n",
    "pass"
   ]
  },
  {
   "cell_type": "code",
   "execution_count": null,
   "id": "e1fb75ab-0ee4-4208-b637-fb0abba1fb07",
   "metadata": {},
   "outputs": [],
   "source": []
  }
 ],
 "metadata": {
  "kernelspec": {
   "display_name": "Python 3 (ipykernel)",
   "language": "python",
   "name": "python3"
  },
  "language_info": {
   "codemirror_mode": {
    "name": "ipython",
    "version": 3
   },
   "file_extension": ".py",
   "mimetype": "text/x-python",
   "name": "python",
   "nbconvert_exporter": "python",
   "pygments_lexer": "ipython3",
   "version": "3.12.4"
  }
 },
 "nbformat": 4,
 "nbformat_minor": 5
}
