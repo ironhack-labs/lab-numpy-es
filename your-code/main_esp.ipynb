{
 "cells": [
  {
   "cell_type": "code",
   "execution_count": 5,
   "id": "719ef24a-e501-4780-a571-617ec2a47055",
   "metadata": {},
   "outputs": [],
   "source": [
    "#1. Importa el paquete NUMPY bajo el nombre np.\n",
    "\n",
    "import numpy as np"
   ]
  },
  {
   "cell_type": "code",
   "execution_count": 7,
   "id": "19e56e7e-4f7f-47a9-88be-ddeb76797fcd",
   "metadata": {},
   "outputs": [
    {
     "name": "stdout",
     "output_type": "stream",
     "text": [
      "Versió de numpy: 1.26.4\n",
      "Configuració de numpy:\n",
      "Build Dependencies:\n",
      "  blas:\n",
      "    detection method: pkgconfig\n",
      "    found: true\n",
      "    include directory: d:/Users/estev/anaconda3/Library/include\n",
      "    lib directory: d:/Users/estev/anaconda3/Library/lib\n",
      "    name: mkl-sdl\n",
      "    openblas configuration: unknown\n",
      "    pc file directory: C:\\b\\abs_c1ywpu18ar\\croot\\numpy_and_numpy_base_1708638681471\\_h_env\\Library\\lib\\pkgconfig\n",
      "    version: '2023.1'\n",
      "  lapack:\n",
      "    detection method: internal\n",
      "    found: true\n",
      "    include directory: unknown\n",
      "    lib directory: unknown\n",
      "    name: dep1583119523984\n",
      "    openblas configuration: unknown\n",
      "    pc file directory: unknown\n",
      "    version: 1.26.4\n",
      "Compilers:\n",
      "  c:\n",
      "    commands: cl.exe\n",
      "    linker: link\n",
      "    name: msvc\n",
      "    version: 19.29.30154\n",
      "  c++:\n",
      "    commands: cl.exe\n",
      "    linker: link\n",
      "    name: msvc\n",
      "    version: 19.29.30154\n",
      "  cython:\n",
      "    commands: cython\n",
      "    linker: cython\n",
      "    name: cython\n",
      "    version: 3.0.8\n",
      "Machine Information:\n",
      "  build:\n",
      "    cpu: x86_64\n",
      "    endian: little\n",
      "    family: x86_64\n",
      "    system: windows\n",
      "  host:\n",
      "    cpu: x86_64\n",
      "    endian: little\n",
      "    family: x86_64\n",
      "    system: windows\n",
      "Python Information:\n",
      "  path: C:\\b\\abs_c1ywpu18ar\\croot\\numpy_and_numpy_base_1708638681471\\_h_env\\python.exe\n",
      "  version: '3.12'\n",
      "SIMD Extensions:\n",
      "  baseline:\n",
      "  - SSE\n",
      "  - SSE2\n",
      "  - SSE3\n",
      "  found:\n",
      "  - SSSE3\n",
      "  - SSE41\n",
      "  - POPCNT\n",
      "  - SSE42\n",
      "  not found:\n",
      "  - AVX\n",
      "  - F16C\n",
      "  - FMA3\n",
      "  - AVX2\n",
      "  - AVX512F\n",
      "  - AVX512CD\n",
      "  - AVX512_SKX\n",
      "  - AVX512_CLX\n",
      "  - AVX512_CNL\n",
      "  - AVX512_ICL\n",
      "\n"
     ]
    }
   ],
   "source": [
    "#2. Imprime la versión de NUMPY y la configuración.\n",
    "\n",
    "# Imprimir la versió de numpy\n",
    "print(\"Versió de numpy:\", np.__version__)\n",
    "\n",
    "# Imprimir la configuració\n",
    "print(\"Configuració de numpy:\")\n",
    "np.show_config()"
   ]
  },
  {
   "cell_type": "code",
   "execution_count": 7,
   "id": "2de0c65c-3508-4a41-bc72-5b9160bea366",
   "metadata": {},
   "outputs": [
    {
     "name": "stdout",
     "output_type": "stream",
     "text": [
      "[[[0 2 1 0 6]\n",
      "  [0 8 6 3 4]\n",
      "  [1 6 8 7 0]]\n",
      "\n",
      " [[5 7 4 5 1]\n",
      "  [0 7 4 0 3]\n",
      "  [3 2 4 8 9]]]\n"
     ]
    }
   ],
   "source": [
    "#3 i #4. Genera un array tridimensional de 2x3x5 con valores aleatorios. Asigna el array a la variable \"a\"\n",
    "# Desafío: hay al menos tres maneras fáciles que usan numpy para generar arrays aleatorios. ¿Cuántas formas puedes encontrar?\n",
    "\n",
    "# Generar un array tridimensional de 2x3x5 amb valors naturals aleatoris entre 0 i 10 (trio naturals aleatoris entre 0 i 10 per facilitar-me la vida després).\n",
    "a = np.random.randint(0, 10, (2, 3, 5))\n",
    "print(a)\n",
    "\n",
    "# Desafiament:\n",
    "\n",
    "# a) np.random.rand ens genera nombres aleatoris a l'inteval [0,1]\n",
    "# b) np.random.randn ens genera nombres aleatoris d'una distribució N(0,1)\n",
    "# c) np.random.dandint: genera nombresn enters aleatoris dintre d'un rang especificat (que és l'opció que he triat jo)."
   ]
  },
  {
   "cell_type": "code",
   "execution_count": 17,
   "id": "84805590-8e4b-4ae9-bdad-3b17a788f809",
   "metadata": {},
   "outputs": [
    {
     "name": "stdout",
     "output_type": "stream",
     "text": [
      "[[[1 1 1]\n",
      "  [1 1 1]]\n",
      "\n",
      " [[1 1 1]\n",
      "  [1 1 1]]\n",
      "\n",
      " [[1 1 1]\n",
      "  [1 1 1]]\n",
      "\n",
      " [[1 1 1]\n",
      "  [1 1 1]]\n",
      "\n",
      " [[1 1 1]\n",
      "  [1 1 1]]]\n"
     ]
    }
   ],
   "source": [
    "#5. i #6 Crea un array tridimensional de 5x2x3 con todos los valores igual a 1.\n",
    "#Asigna el array a la variable \"b\"\n",
    "\n",
    "b = np.ones((5, 2, 3), dtype=int)\n",
    "print(b)"
   ]
  },
  {
   "cell_type": "code",
   "execution_count": 19,
   "id": "66606121-c205-4e41-b5fc-859fe6efe838",
   "metadata": {},
   "outputs": [
    {
     "name": "stdout",
     "output_type": "stream",
     "text": [
      "La dimensió de 'a' és: (2, 3, 5)\n",
      "La dimensió de 'b' és: (5, 2, 3)\n",
      "Les dimensions no coincideixen, a i b no tenen la mateixa mida\n"
     ]
    }
   ],
   "source": [
    "#7. ¿Tienen a y b el mismo tamaño? ¿Cómo lo demuestras en código Python?\n",
    "\n",
    "# No. \n",
    "\n",
    "print(f\"La dimensió de 'a' és: {a.shape}\")\n",
    "print(f\"La dimensió de 'b' és: {b.shape}\")\n",
    "if a.shape == b.shape :\n",
    "    print(\"Les dimensions coincideixen, a i b tenen la mateixa mida\")\n",
    "else :\n",
    "    print(\"Les dimensions no coincideixen, a i b no tenen la mateixa mida\")"
   ]
  },
  {
   "cell_type": "code",
   "execution_count": null,
   "id": "61bd7c9e-8ec2-4714-81e7-305f74cb8c48",
   "metadata": {},
   "outputs": [],
   "source": [
    "#8. ¿Es posible sumar a y b? ¿Por qué sí o por qué no?\n",
    "\n",
    "No, no es posible sumar a y b porque sus dimensiones no coinciden."
   ]
  },
  {
   "cell_type": "code",
   "execution_count": 21,
   "id": "484db7a3-b497-4495-a236-cf3a7db79d90",
   "metadata": {},
   "outputs": [
    {
     "name": "stdout",
     "output_type": "stream",
     "text": [
      "Forma original de b: (5, 2, 3)\n",
      "Forma trasposada de b (c): (2, 3, 5)\n"
     ]
    }
   ],
   "source": [
    "#9. Transpone b para que tenga la misma estructura que a (es decir, se convierta en un array de 2x3x5). Asigna el array transpuesto a la variable \"c\".\n",
    "\n",
    "# Fem bT per tal que tingui la forma (2, 3, 5)\n",
    "\n",
    "c = np.transpose(b, (1, 2, 0))\n",
    "\n",
    "print(f\"Forma original de b: {b.shape}\")\n",
    "print(f\"Forma trasposada de b (c): {c.shape}\")"
   ]
  },
  {
   "cell_type": "code",
   "execution_count": 23,
   "id": "e5429d80-a574-4778-9d83-f47e01d8e1c2",
   "metadata": {},
   "outputs": [
    {
     "name": "stdout",
     "output_type": "stream",
     "text": [
      "Suma de a i c (d):\n",
      "[[[ 1  3  2  1  7]\n",
      "  [ 1  9  7  4  5]\n",
      "  [ 2  7  9  8  1]]\n",
      "\n",
      " [[ 6  8  5  6  2]\n",
      "  [ 1  8  5  1  4]\n",
      "  [ 4  3  5  9 10]]]\n"
     ]
    }
   ],
   "source": [
    "#10. Intenta sumar a y c. Ahora debería funcionar. Asigna la suma a la variable \"d\". Pero, ¿por qué funciona ahora?\n",
    "\n",
    "# Sumem a i c :\n",
    "d = a + c\n",
    "\n",
    "print(f\"Suma de a i c (d):\\n{d}\")\n"
   ]
  },
  {
   "cell_type": "code",
   "execution_count": null,
   "id": "14f7cbfd-b8cf-4418-b299-3acb9978e7da",
   "metadata": {},
   "outputs": [],
   "source": [
    "# Ahora funciona porque la suma en Python está definida como la suma punto a punto. Al tener los arrays el mismo tamaño y los elementos ser del mismo tipo\n",
    "# (enteros, en este caso) la operación que intentamos hacer entra dentro de las hipótesis definitorias de la suma."
   ]
  },
  {
   "cell_type": "code",
   "execution_count": 29,
   "id": "086bcdd0-fb58-4ba5-9ae3-ae4fef251bc7",
   "metadata": {},
   "outputs": [
    {
     "name": "stdout",
     "output_type": "stream",
     "text": [
      "a:\n",
      "[[[0 2 1 0 6]\n",
      "  [0 8 6 3 4]\n",
      "  [1 6 8 7 0]]\n",
      "\n",
      " [[5 7 4 5 1]\n",
      "  [0 7 4 0 3]\n",
      "  [3 2 4 8 9]]]\n",
      "d:\n",
      "[[[ 1  3  2  1  7]\n",
      "  [ 1  9  7  4  5]\n",
      "  [ 2  7  9  8  1]]\n",
      "\n",
      " [[ 6  8  5  6  2]\n",
      "  [ 1  8  5  1  4]\n",
      "  [ 4  3  5  9 10]]]\n"
     ]
    }
   ],
   "source": [
    "#11. Imprime a y d. ¿Notas la diferencia y la relación entre los dos arrays en términos de los valores? Explica.\n",
    "\n",
    "print(f\"a:\\n{a}\")\n",
    "print(f\"d:\\n{d}\")"
   ]
  },
  {
   "cell_type": "code",
   "execution_count": null,
   "id": "60f84f19-0760-4aa6-a9fc-240c3170b412",
   "metadata": {},
   "outputs": [],
   "source": [
    "# Podemos observar que los valores de d se obtienen a partir de los de a sumándoles una unidad, que es justo el contenido de b."
   ]
  },
  {
   "cell_type": "code",
   "execution_count": 33,
   "id": "33a1e749-8635-497c-b3d6-3b985530d0e0",
   "metadata": {},
   "outputs": [
    {
     "name": "stdout",
     "output_type": "stream",
     "text": [
      "a:\n",
      "[[[0 2 1 0 6]\n",
      "  [0 8 6 3 4]\n",
      "  [1 6 8 7 0]]\n",
      "\n",
      " [[5 7 4 5 1]\n",
      "  [0 7 4 0 3]\n",
      "  [3 2 4 8 9]]]\n",
      "\n",
      "c:\n",
      "[[[1 1 1 1 1]\n",
      "  [1 1 1 1 1]\n",
      "  [1 1 1 1 1]]\n",
      "\n",
      " [[1 1 1 1 1]\n",
      "  [1 1 1 1 1]\n",
      "  [1 1 1 1 1]]]\n",
      "\n",
      "Producte de a i c (e):\n",
      "[[[0 2 1 0 6]\n",
      "  [0 8 6 3 4]\n",
      "  [1 6 8 7 0]]\n",
      "\n",
      " [[5 7 4 5 1]\n",
      "  [0 7 4 0 3]\n",
      "  [3 2 4 8 9]]]\n"
     ]
    }
   ],
   "source": [
    "#12. Multiplica a y c. Asigna el resultado a e.\n",
    "\n",
    "# Producte de a i c.\n",
    "\n",
    "e = a * c\n",
    "\n",
    "print(f\"a:\\n{a}\")\n",
    "print(f\"\\nc:\\n{c}\")\n",
    "print(f\"\\nProducte de a i c (e):\\n{e}\")"
   ]
  },
  {
   "cell_type": "code",
   "execution_count": 43,
   "id": "fb504fc1-315a-45df-818b-b1b799008d4f",
   "metadata": {},
   "outputs": [
    {
     "name": "stdout",
     "output_type": "stream",
     "text": [
      "L'array e és igual a l'array a\n"
     ]
    }
   ],
   "source": [
    "#13. ¿Es e igual a a? ¿Por qué sí o por qué no?\n",
    "\n",
    "if e.all() == a.all() :\n",
    "    print(\"L'array e és igual a l'array a\")\n",
    "else :\n",
    "    print(\"L'array a i l'arrray c són diferents\")\n"
   ]
  },
  {
   "cell_type": "code",
   "execution_count": null,
   "id": "69383eef-ad09-4ef6-9839-274071bece1d",
   "metadata": {},
   "outputs": [],
   "source": [
    "# El producte, com la suma, també està definit element a element. Com que en aquest cas estem multiplicant per l'element neutre del producte\n",
    "# és d'esperar que l'array original i l'obtingut com a resultat del producte coincideixin."
   ]
  },
  {
   "cell_type": "code",
   "execution_count": 45,
   "id": "cf61a8de-a3bb-4b96-969c-deed2f81970b",
   "metadata": {},
   "outputs": [
    {
     "name": "stdout",
     "output_type": "stream",
     "text": [
      "Valor màxim a d: 10\n",
      "Valor mínim a d: 1\n",
      "Valor mitjà dels valors de : 4.8\n"
     ]
    }
   ],
   "source": [
    "#14. Identifica los valores máximos, mínimos y medios en d. Asigna esos valores a las variables \"d_max\", \"d_min\" y \"d_mean\"\n",
    "\n",
    "# Trobem els valors màxim, mínim i mitjà de d.\n",
    "d_max = np.max(d)\n",
    "d_min = np.min(d)\n",
    "d_mean = np.mean(d)\n",
    "\n",
    "print(f\"Valor màxim a d: {d_max}\")\n",
    "print(f\"Valor mínim a d: {d_min}\")\n",
    "print(f\"Valor mitjà dels valors de : {d_mean}\")\n"
   ]
  },
  {
   "cell_type": "code",
   "execution_count": 51,
   "id": "b6f9265d-a54b-4a7a-ba98-b978eed93be6",
   "metadata": {},
   "outputs": [
    {
     "name": "stdout",
     "output_type": "stream",
     "text": [
      "\n",
      "Array f (buit) amb la mateixa forma de d:\n",
      "[[[0 2 1 0 6]\n",
      "  [0 8 6 3 4]\n",
      "  [1 6 8 7 0]]\n",
      "\n",
      " [[5 7 4 5 1]\n",
      "  [0 7 4 0 3]\n",
      "  [3 2 4 8 9]]]\n",
      "\n",
      "Forma de f: (2, 3, 5)\n"
     ]
    }
   ],
   "source": [
    "#15. Ahora queremos etiquetar los valores en d. Primero crea un array vacío \"f\" con la misma forma (es decir, 2x3x5) que d usando `np.empty`.\n",
    "\n",
    "# Crear un array vacío f con la misma forma que d\n",
    "f = np.empty(d.shape, dtype=int)\n",
    "\n",
    "print(f\"\\nArray f (buit) amb la mateixa forma de d:\\n{f}\")\n",
    "print(f\"\\nForma de f: {f.shape}\")"
   ]
  },
  {
   "cell_type": "code",
   "execution_count": 53,
   "id": "1bfe5d1f-0c12-4bf4-a4b6-48ff4c5bfbb7",
   "metadata": {},
   "outputs": [
    {
     "name": "stdout",
     "output_type": "stream",
     "text": [
      "Array f aplicant les condicions:\n",
      "[[[  0  25  25   0  75]\n",
      "  [  0  75  75  25  75]\n",
      "  [ 25  75  75  75   0]]\n",
      "\n",
      " [[ 75  75  75  75  25]\n",
      "  [  0  75  75   0  25]\n",
      "  [ 25  25  75  75 100]]]\n"
     ]
    }
   ],
   "source": [
    "#16. Rellena los valores en f. Para cada valor en d, si es mayor que d_min pero menor que d_mean, asigna 25 al valor correspondiente en f.\n",
    "# Si un valor en d es mayor que d_mean pero menor que d_max, asigna 75 al valor correspondiente en f.\n",
    "# Si un valor es igual a d_mean, asigna 50 al valor correspondiente en f.\n",
    "\n",
    "# Asigna 0 al valor correspondiente(s) en f para d_min en d.\n",
    "# Asigna 100 al valor correspondiente(s) en f para d_max en d.\n",
    "# Al final, f debería tener solo los siguientes valores: 0, 25, 50, 75 y 100.\n",
    "# Nota: no necesitas usar Numpy en esta pregunta.\n",
    "\n",
    "# Omplim l'arrai f segons les condicions:\n",
    "for i in range(d.shape[0]):  # iterem sobre la primera dimensió (X, , )\n",
    "    for j in range(d.shape[1]):  # iterem sobre la segona dimensió ( ,Y, )\n",
    "        for k in range(d.shape[2]):  # iterem sobre la tercera dimensió ( , ,Z)\n",
    "            if d[i, j, k] == d_min:\n",
    "                f[i, j, k] = 0\n",
    "            elif d[i, j, k] == d_mean:\n",
    "                f[i, j, k] = 50\n",
    "            elif d[i, j, k] == d_max:\n",
    "                f[i, j, k] = 100\n",
    "            elif d_min < d[i, j, k] < d_mean:\n",
    "                f[i, j, k] = 25\n",
    "            elif d_mean < d[i, j, k] < d_max:\n",
    "                f[i, j, k] = 75\n",
    "\n",
    "print(f\"Array f aplicant les condicions:\\n{f}\")\n"
   ]
  },
  {
   "cell_type": "code",
   "execution_count": 55,
   "id": "60aca1f9-ce65-4c60-b34d-53ee92ec50b9",
   "metadata": {},
   "outputs": [
    {
     "name": "stdout",
     "output_type": "stream",
     "text": [
      "\n",
      "L'array d és:\n",
      " [[[ 1  3  2  1  7]\n",
      "  [ 1  9  7  4  5]\n",
      "  [ 2  7  9  8  1]]\n",
      "\n",
      " [[ 6  8  5  6  2]\n",
      "  [ 1  8  5  1  4]\n",
      "  [ 4  3  5  9 10]]]\n",
      "\n",
      "L'array f és:\n",
      " [[[  0  25  25   0  75]\n",
      "  [  0  75  75  25  75]\n",
      "  [ 25  75  75  75   0]]\n",
      "\n",
      " [[ 75  75  75  75  25]\n",
      "  [  0  75  75   0  25]\n",
      "  [ 25  25  75  75 100]]]\n",
      "\n",
      "El valor mitjà de d és: 4.8. Com que és un nombre decimal i els valors de f són tots naturals no tenim cap valor 50 a l'array f\n"
     ]
    }
   ],
   "source": [
    "#17. Imprime d y f. ¿Tienes el f esperado?\n",
    "\n",
    "print(f\"\\nL'array d és:\\n {d}\")\n",
    "print(f\"\\nL'array f és:\\n {f}\")\n",
    "print(f\"\\nEl valor mitjà de d és: {d_mean}. Com que és un nombre decimal i els valors de f són tots naturals no tenim cap valor 50 a l'array f\")"
   ]
  },
  {
   "cell_type": "code",
   "execution_count": 63,
   "id": "02286191-e794-404f-92f0-62f8de420316",
   "metadata": {},
   "outputs": [
    {
     "name": "stdout",
     "output_type": "stream",
     "text": [
      "Array g:\n",
      "[[['A' 'B' 'B' 'A' 'D']\n",
      "  ['A' 'D' 'D' 'B' 'D']\n",
      "  ['B' 'D' 'D' 'D' 'A']]\n",
      "\n",
      " [['D' 'D' 'D' 'D' 'B']\n",
      "  ['A' 'D' 'D' 'A' 'B']\n",
      "  ['B' 'B' 'D' 'D' 'E']]]\n"
     ]
    }
   ],
   "source": [
    "#18. Pregunta de bonificación: en lugar de usar números (es decir, 0, 25, 50, 75 y 100), ¿cómo usar valores de cadena \n",
    "# (\"A\", \"B\", \"C\", \"D\" y \"E\") para etiquetar los elementos del array? Esperas el resultado sea:\n",
    "# array([[[ 'D',  'D',  'D',  'B',  'D'],\n",
    "#       [ 'D',  'D',  'B',  'B',  'B'],\n",
    "#       [ 'D',  'B',  'D',  'D',  'D']],\n",
    "#\n",
    "#      [[ 'B',  'B',  'B',  'B',  'E'],\n",
    "#       [ 'D',  'D',  'D',  'D',  'D'],\n",
    "#       [ 'B',  'D',   'A',  'D', 'D']]])\n",
    "# De nuevo, no necesitas Numpy en esta pregunta.\n",
    "\n",
    "# Com que he definit f amb valors senzers, caldrà redefinir f o definir una nova funció g amb les mateixes característiques.\n",
    "\n",
    "g = np.empty(d.shape, dtype=str)\n",
    "\n",
    "for i in range(d.shape[0]):  \n",
    "    for j in range(d.shape[1]):  \n",
    "        for k in range(d.shape[2]): \n",
    "            if d[i, j, k] == d_min:\n",
    "                g[i, j, k] = \"A\"  \n",
    "            elif d[i, j, k] == d_mean:\n",
    "                g[i, j, k] = \"C\"  \n",
    "            elif d[i, j, k] == d_max:\n",
    "                g[i, j, k] = \"E\"  \n",
    "            elif d_min < d[i, j, k] < d_mean:\n",
    "                g[i, j, k] = \"B\" \n",
    "            elif d_mean < d[i, j, k] < d_max:\n",
    "                g[i, j, k] = \"D\"  \n",
    "\n",
    "print(f\"Array g:\\n{g}\")"
   ]
  },
  {
   "cell_type": "code",
   "execution_count": null,
   "id": "4792a6ff-e5c4-4bfa-890b-0df79ad2a0ed",
   "metadata": {},
   "outputs": [],
   "source": []
  }
 ],
 "metadata": {
  "kernelspec": {
   "display_name": "Python 3 (ipykernel)",
   "language": "python",
   "name": "python3"
  },
  "language_info": {
   "codemirror_mode": {
    "name": "ipython",
    "version": 3
   },
   "file_extension": ".py",
   "mimetype": "text/x-python",
   "name": "python",
   "nbconvert_exporter": "python",
   "pygments_lexer": "ipython3",
   "version": "3.12.4"
  }
 },
 "nbformat": 4,
 "nbformat_minor": 5
}
