{
  "nbformat": 4,
  "nbformat_minor": 0,
  "metadata": {
    "colab": {
      "provenance": []
    },
    "kernelspec": {
      "name": "python3",
      "display_name": "Python 3"
    },
    "language_info": {
      "name": "python"
    }
  },
  "cells": [
    {
      "cell_type": "code",
      "execution_count": 86,
      "metadata": {
        "id": "qytClQ1Tny2G"
      },
      "outputs": [],
      "source": [
        "#1. Importa el paquete NUMPY bajo el nombre np.\n",
        "import numpy as np"
      ]
    },
    {
      "cell_type": "code",
      "source": [
        "#2. Imprime la versión de NUMPY y la configuración.\n",
        "print(np.__version__)\n",
        "np.show_config()"
      ],
      "metadata": {
        "colab": {
          "base_uri": "https://localhost:8080/"
        },
        "id": "Lg-JG1Pqn-sM",
        "outputId": "0a72797d-14ab-4e07-b46b-cc7caab7e448"
      },
      "execution_count": 87,
      "outputs": [
        {
          "output_type": "stream",
          "name": "stdout",
          "text": [
            "1.26.4\n",
            "Build Dependencies:\n",
            "  blas:\n",
            "    detection method: pkgconfig\n",
            "    found: true\n",
            "    include directory: /usr/local/include\n",
            "    lib directory: /usr/local/lib\n",
            "    name: openblas64\n",
            "    openblas configuration: USE_64BITINT=1 DYNAMIC_ARCH=1 DYNAMIC_OLDER= NO_CBLAS=\n",
            "      NO_LAPACK= NO_LAPACKE= NO_AFFINITY=1 USE_OPENMP= HASWELL MAX_THREADS=2\n",
            "    pc file directory: /usr/local/lib/pkgconfig\n",
            "    version: 0.3.23.dev\n",
            "  lapack:\n",
            "    detection method: internal\n",
            "    found: true\n",
            "    include directory: unknown\n",
            "    lib directory: unknown\n",
            "    name: dep139863411681952\n",
            "    openblas configuration: unknown\n",
            "    pc file directory: unknown\n",
            "    version: 1.26.4\n",
            "Compilers:\n",
            "  c:\n",
            "    args: -fno-strict-aliasing\n",
            "    commands: cc\n",
            "    linker: ld.bfd\n",
            "    linker args: -Wl,--strip-debug, -fno-strict-aliasing\n",
            "    name: gcc\n",
            "    version: 10.2.1\n",
            "  c++:\n",
            "    commands: c++\n",
            "    linker: ld.bfd\n",
            "    linker args: -Wl,--strip-debug\n",
            "    name: gcc\n",
            "    version: 10.2.1\n",
            "  cython:\n",
            "    commands: cython\n",
            "    linker: cython\n",
            "    name: cython\n",
            "    version: 3.0.8\n",
            "Machine Information:\n",
            "  build:\n",
            "    cpu: x86_64\n",
            "    endian: little\n",
            "    family: x86_64\n",
            "    system: linux\n",
            "  host:\n",
            "    cpu: x86_64\n",
            "    endian: little\n",
            "    family: x86_64\n",
            "    system: linux\n",
            "Python Information:\n",
            "  path: /opt/python/cp310-cp310/bin/python\n",
            "  version: '3.10'\n",
            "SIMD Extensions:\n",
            "  baseline:\n",
            "  - SSE\n",
            "  - SSE2\n",
            "  - SSE3\n",
            "  found:\n",
            "  - SSSE3\n",
            "  - SSE41\n",
            "  - POPCNT\n",
            "  - SSE42\n",
            "  - AVX\n",
            "  - F16C\n",
            "  - FMA3\n",
            "  - AVX2\n",
            "  not found:\n",
            "  - AVX512F\n",
            "  - AVX512CD\n",
            "  - AVX512_KNL\n",
            "  - AVX512_KNM\n",
            "  - AVX512_SKX\n",
            "  - AVX512_CLX\n",
            "  - AVX512_CNL\n",
            "  - AVX512_ICL\n",
            "\n"
          ]
        }
      ]
    },
    {
      "cell_type": "code",
      "source": [
        "#3. Genera un array tridimensional de 2x3x5 con valores aleatorios. Asigna el array a la variable \"a\"\n",
        "# Desafío: hay al menos tres maneras fáciles que usan numpy para generar arrays aleatorios. ¿Cuántas formas puedes encontrar?\n",
        "\n",
        "# Forma 1: Números enteros aleatorios en el intervalo [0, 10).\n",
        "a1 = np.random.randint(10,size=(2, 3, 5))\n",
        "\n",
        "# Forma 2: Números decimales aleatorios en el intervalo [0.0, 1.0).\n",
        "a2 = np.random.random((2, 3, 5))\n",
        "\n",
        "# Forma 3: Números aleatorios de una distribución uniforme en el intervalo [0.0, 1.0)\n",
        "a3 = np.random.uniform(low=0.0, high=1.0, size=(2, 3, 5))\n",
        "\n",
        "# Forma 4: Números aleatorios estándar con distribución normal con media 0 y desviación 1.\n",
        "a4 = np.random.randn(2, 3, 5)\n",
        "\n",
        "# Forma 5: Números aleatorios de una distribución normal con media \"loc\" y desviación estándar \"scale\".\n",
        "a5 = np.random.normal(loc=0.0, scale=1.0, size=(2, 3, 5))\n",
        "\n",
        "# Forma 6: Elegir aleatoriamente elementos de una lista específica (puede aceptar parámetros adicionales como replace=False para la selección sin reemplazo.)\n",
        "a6 = np.random.choice(range(10), size=(2, 3, 5))"
      ],
      "metadata": {
        "id": "sCJHBmbkn-pv"
      },
      "execution_count": 88,
      "outputs": []
    },
    {
      "cell_type": "code",
      "source": [
        "#4. Imprime a.\n",
        "# Seleción la generación aleatoria deseada\n",
        "a = a1 #a1, a2, a3, a4, a5, a6\n",
        "# Impresión de a\n",
        "print (a)"
      ],
      "metadata": {
        "colab": {
          "base_uri": "https://localhost:8080/"
        },
        "id": "PKhr8lEDn-nC",
        "outputId": "c58b1857-a9ad-47b0-db53-095e11435c02"
      },
      "execution_count": 89,
      "outputs": [
        {
          "output_type": "stream",
          "name": "stdout",
          "text": [
            "[[[5 0 7 3 0]\n",
            "  [2 6 9 2 4]\n",
            "  [2 0 2 8 8]]\n",
            "\n",
            " [[5 7 3 4 7]\n",
            "  [7 9 3 5 3]\n",
            "  [7 8 5 9 4]]]\n"
          ]
        }
      ]
    },
    {
      "cell_type": "code",
      "source": [
        "#5. Crea un array tridimensional de 5x2x3 con todos los valores igual a 1.\n",
        "#Asigna el array a la variable \"b\"\n",
        "b = np.ones((5, 2, 3))"
      ],
      "metadata": {
        "id": "t59cvPMFn-kq"
      },
      "execution_count": 90,
      "outputs": []
    },
    {
      "cell_type": "code",
      "source": [
        "#6. Imprime b.\n",
        "print (b)"
      ],
      "metadata": {
        "colab": {
          "base_uri": "https://localhost:8080/"
        },
        "id": "EDfOuXoqoDqS",
        "outputId": "a8edd3c6-4538-4a7b-c570-80cdee8ed1f3"
      },
      "execution_count": 91,
      "outputs": [
        {
          "output_type": "stream",
          "name": "stdout",
          "text": [
            "[[[1. 1. 1.]\n",
            "  [1. 1. 1.]]\n",
            "\n",
            " [[1. 1. 1.]\n",
            "  [1. 1. 1.]]\n",
            "\n",
            " [[1. 1. 1.]\n",
            "  [1. 1. 1.]]\n",
            "\n",
            " [[1. 1. 1.]\n",
            "  [1. 1. 1.]]\n",
            "\n",
            " [[1. 1. 1.]\n",
            "  [1. 1. 1.]]]\n"
          ]
        }
      ]
    },
    {
      "cell_type": "code",
      "source": [
        "#7. ¿Tienen a y b el mismo tamaño? ¿Cómo lo demuestras en código Python?\n",
        "def numpy_info(arr):\n",
        "  print(\"\\nThe dimension is:\", arr.ndim)\n",
        "  print(\"The shape is:\", arr.shape)\n",
        "  print(\"The size is:\", arr.size)\n",
        "\n",
        "numpy_info(a)\n",
        "numpy_info(b)\n",
        "\n",
        "print(\"\\nTienen la misma dimensión? \", a.ndim == b.ndim)\n",
        "print(\"Tienen la misma forma? \", a.shape == b.shape)\n",
        "print(\"Tienen el mismo tamaño? \", a.size == b.size)"
      ],
      "metadata": {
        "colab": {
          "base_uri": "https://localhost:8080/"
        },
        "id": "jyzwIFlCoDnx",
        "outputId": "c3a3550f-17f2-442c-840d-83c0c6854629"
      },
      "execution_count": 92,
      "outputs": [
        {
          "output_type": "stream",
          "name": "stdout",
          "text": [
            "\n",
            "The dimension is: 3\n",
            "The shape is: (2, 3, 5)\n",
            "The size is: 30\n",
            "\n",
            "The dimension is: 3\n",
            "The shape is: (5, 2, 3)\n",
            "The size is: 30\n",
            "\n",
            "Tienen la misma dimensión?  True\n",
            "Tienen la misma forma?  False\n",
            "Tienen el mismo tamaño?  True\n"
          ]
        }
      ]
    },
    {
      "cell_type": "markdown",
      "source": [
        "**Dimension** (*arr.ndim*): This method returns the number of dimensions in the input array arr. For example, if arr is a 1-dimensional array, it will return 1 (vector). If it's a 2-dimensional array, it will return 2 (matrix), and so on.\n",
        "\n",
        "**Shape** (*arr.shape*): This method returns a tuple representing the dimensions of the array. The tuple contains the length of the array along each dimension. For example, if arr is a 1-dimensional array with 7 elements, it will return (7,). If it's a 2-dimensional array with dimensions 3x4, it will return (3, 4).\n",
        "\n",
        "**Size** (*arr.size*): This method returns the total number of elements in the array. It's essentially the product of the lengths of all dimensions. For example, if arr is a 2-dimensional array with dimensions 3x4, it will return 12 because there are a total of 12 elements in the array.\n",
        "\n",
        "Fuente: Teoría IronHack"
      ],
      "metadata": {
        "id": "g-JMLo4btmAe"
      }
    },
    {
      "cell_type": "code",
      "source": [
        "#8. ¿Es posible sumar a y b? ¿Por qué sí o por qué no?\n",
        "print(\"No se podrán sumar a y b porque tienen tamaños (Shape) diferentes\")\n",
        "print(\"a tiene forma (shape): \", a.shape)\n",
        "print(\"b tiene forma (shape): \", b.shape)"
      ],
      "metadata": {
        "colab": {
          "base_uri": "https://localhost:8080/"
        },
        "id": "FY3pEMWwoDlv",
        "outputId": "f0580c67-05b8-46cb-a1d8-0c810fc66317"
      },
      "execution_count": 93,
      "outputs": [
        {
          "output_type": "stream",
          "name": "stdout",
          "text": [
            "No se podrán sumar a y b porque tienen tamaños (Shape) diferentes\n",
            "a tiene forma (shape):  (2, 3, 5)\n",
            "b tiene forma (shape):  (5, 2, 3)\n"
          ]
        }
      ]
    },
    {
      "cell_type": "code",
      "source": [
        "try:\n",
        "  # Prueba de sumar a + b y si se puede devolver mensaje exitoso y el resultado\n",
        "    result = a + b\n",
        "    print(f\"La suma fue exitosa. El resultado es: {result}\")\n",
        "except ValueError as e:\n",
        "  # Si no se puede sumar, devolver mensaje de error con el error\n",
        "    print(f\"Error: No se pueden sumar los arrays debido a incompatibilidad de dimensiones. Detalles: {e}\")"
      ],
      "metadata": {
        "colab": {
          "base_uri": "https://localhost:8080/"
        },
        "id": "PVD0H28nvHGQ",
        "outputId": "6bff9410-506b-46ae-e80f-d52c8f1ea204"
      },
      "execution_count": 94,
      "outputs": [
        {
          "output_type": "stream",
          "name": "stdout",
          "text": [
            "Error: No se pueden sumar los arrays debido a incompatibilidad de dimensiones. Detalles: operands could not be broadcast together with shapes (2,3,5) (5,2,3) \n"
          ]
        }
      ]
    },
    {
      "cell_type": "code",
      "source": [
        "#9. Transpone b para que tenga la misma estructura que a (es decir, se convierta en un array de 2x3x5). Asigna el array transpuesto a la variable \"c\".\n",
        "\n",
        "# Se transpone b para que el shape[0] vaya en la ultima posición, el shape[1] en la primera, el shape [2] en la segunda posición\n",
        "# O sea para pasar de (5, 2, 3) a (2, 3, 5)\n",
        " #                    [0][1][2]   [1][2][0]\n",
        "c = np.transpose(b, axes=(1, 2, 0))"
      ],
      "metadata": {
        "id": "5wmSY1AEoDjW"
      },
      "execution_count": 95,
      "outputs": []
    },
    {
      "cell_type": "code",
      "source": [
        "numpy_info(a)\n",
        "numpy_info(c)\n",
        "\n",
        "print(\"\\nTienen la misma dimensión? \", a.ndim == c.ndim)\n",
        "print(\"Tienen la misma forma? \", a.shape == c.shape)\n",
        "print(\"Tienen el mismo tamaño? \", a.size == c.size)\n",
        "\n",
        "# Pero b transpuesta (c) no tiene la misma estructura que a (no es un array de tamaño 2x3x5)"
      ],
      "metadata": {
        "colab": {
          "base_uri": "https://localhost:8080/"
        },
        "id": "hZPsDHnVwAvw",
        "outputId": "c62e8b26-917e-4589-bd7d-127e4dfe1009"
      },
      "execution_count": 96,
      "outputs": [
        {
          "output_type": "stream",
          "name": "stdout",
          "text": [
            "\n",
            "The dimension is: 3\n",
            "The shape is: (2, 3, 5)\n",
            "The size is: 30\n",
            "\n",
            "The dimension is: 3\n",
            "The shape is: (2, 3, 5)\n",
            "The size is: 30\n",
            "\n",
            "Tienen la misma dimensión?  True\n",
            "Tienen la misma forma?  True\n",
            "Tienen el mismo tamaño?  True\n"
          ]
        }
      ]
    },
    {
      "cell_type": "code",
      "source": [
        "#10. Intenta sumar a y c. Ahora debería funcionar. Asigna la suma a la variable \"d\". Pero, ¿por qué funciona ahora?\n",
        "try:\n",
        "  # Prueba de sumar a + b y si se puede devolver mensaje exitoso y el resultado\n",
        "    d = a + c\n",
        "    print(f\"La suma fue exitosa. El resultado es: {d}\")\n",
        "except ValueError as e:\n",
        "  # Si no se puede sumar, devolver mensaje de error con el error\n",
        "    print(f\"Error: No se pueden sumar los arrays debido a incompatibilidad de dimensiones. Detalles: {e}\")"
      ],
      "metadata": {
        "colab": {
          "base_uri": "https://localhost:8080/"
        },
        "id": "O-3taubHoDg5",
        "outputId": "a4ff6403-e26f-4503-954b-c16e78d0f474"
      },
      "execution_count": 97,
      "outputs": [
        {
          "output_type": "stream",
          "name": "stdout",
          "text": [
            "La suma fue exitosa. El resultado es: [[[ 6.  1.  8.  4.  1.]\n",
            "  [ 3.  7. 10.  3.  5.]\n",
            "  [ 3.  1.  3.  9.  9.]]\n",
            "\n",
            " [[ 6.  8.  4.  5.  8.]\n",
            "  [ 8. 10.  4.  6.  4.]\n",
            "  [ 8.  9.  6. 10.  5.]]]\n"
          ]
        }
      ]
    },
    {
      "cell_type": "code",
      "source": [
        "#11. Imprime a y d. ¿Notas la diferencia y la relación entre los dos arrays en términos de los valores? Explica.\n",
        "print(a)\n",
        "print(d)"
      ],
      "metadata": {
        "colab": {
          "base_uri": "https://localhost:8080/"
        },
        "id": "7NHXKDNBoDef",
        "outputId": "d708a64f-fd10-4630-86c0-428b018a42b9"
      },
      "execution_count": 98,
      "outputs": [
        {
          "output_type": "stream",
          "name": "stdout",
          "text": [
            "[[[5 0 7 3 0]\n",
            "  [2 6 9 2 4]\n",
            "  [2 0 2 8 8]]\n",
            "\n",
            " [[5 7 3 4 7]\n",
            "  [7 9 3 5 3]\n",
            "  [7 8 5 9 4]]]\n",
            "[[[ 6.  1.  8.  4.  1.]\n",
            "  [ 3.  7. 10.  3.  5.]\n",
            "  [ 3.  1.  3.  9.  9.]]\n",
            "\n",
            " [[ 6.  8.  4.  5.  8.]\n",
            "  [ 8. 10.  4.  6.  4.]\n",
            "  [ 8.  9.  6. 10.  5.]]]\n"
          ]
        }
      ]
    },
    {
      "cell_type": "code",
      "source": [
        "# Notamos que \"a\" son enteros y \"d\" son float.\n",
        "print(f\"El tipo de datos de a es {type(a[0,0,0])}\\nEl tipo de datos de d es {type(d[0,0,0])}\")\n",
        "\n",
        "# Eso es debido que\n",
        "# \"a\" es generado con enteros aleatorios.\n",
        "# \"d\" es una suma entre float de unos \"b\" y enteros \"a\" que da como resultado un float\n",
        "\n",
        "print(f\"Respecto a los números se observa que todos diferencian en una unidad del otro\")\n",
        "print(d-a)\n",
        "\n",
        "# Eso es debido a que acabamos de sumar unos en todas las posiciones (hemos sumado b)"
      ],
      "metadata": {
        "colab": {
          "base_uri": "https://localhost:8080/"
        },
        "id": "MpAv8rU4zT1l",
        "outputId": "a7651b1a-7dcb-432c-9329-1a6fa1f72b52"
      },
      "execution_count": 99,
      "outputs": [
        {
          "output_type": "stream",
          "name": "stdout",
          "text": [
            "El tipo de datos de a es <class 'numpy.int64'>\n",
            "El tipo de datos de d es <class 'numpy.float64'>\n",
            "Respecto a los números se observa que todos diferencian en una unidad del otro\n",
            "[[[1. 1. 1. 1. 1.]\n",
            "  [1. 1. 1. 1. 1.]\n",
            "  [1. 1. 1. 1. 1.]]\n",
            "\n",
            " [[1. 1. 1. 1. 1.]\n",
            "  [1. 1. 1. 1. 1.]\n",
            "  [1. 1. 1. 1. 1.]]]\n"
          ]
        }
      ]
    },
    {
      "cell_type": "code",
      "source": [
        "#12. Multiplica a y c. Asigna el resultado a e.\n",
        "e = a*c"
      ],
      "metadata": {
        "id": "9p34jbusn-ir"
      },
      "execution_count": 100,
      "outputs": []
    },
    {
      "cell_type": "code",
      "source": [
        "#13. ¿Es e igual a a? ¿Por qué sí o por qué no?\n",
        "e == a"
      ],
      "metadata": {
        "colab": {
          "base_uri": "https://localhost:8080/"
        },
        "id": "wOCUUMrOn-gi",
        "outputId": "f7ce8231-a010-4a28-813f-6900bf8ad61f"
      },
      "execution_count": 101,
      "outputs": [
        {
          "output_type": "execute_result",
          "data": {
            "text/plain": [
              "array([[[ True,  True,  True,  True,  True],\n",
              "        [ True,  True,  True,  True,  True],\n",
              "        [ True,  True,  True,  True,  True]],\n",
              "\n",
              "       [[ True,  True,  True,  True,  True],\n",
              "        [ True,  True,  True,  True,  True],\n",
              "        [ True,  True,  True,  True,  True]]])"
            ]
          },
          "metadata": {},
          "execution_count": 101
        }
      ]
    },
    {
      "cell_type": "code",
      "source": [
        "print(\"Sí, e es igual a a por qué se han multiplicado todos los elementos de a por 1\")"
      ],
      "metadata": {
        "colab": {
          "base_uri": "https://localhost:8080/"
        },
        "id": "jXH_jNsA0_Z6",
        "outputId": "cffe76c8-0892-4a1c-e331-675092edf4b0"
      },
      "execution_count": 102,
      "outputs": [
        {
          "output_type": "stream",
          "name": "stdout",
          "text": [
            "Sí, e es igual a a por qué se han multiplicado todos los elementos de a por 1\n"
          ]
        }
      ]
    },
    {
      "cell_type": "code",
      "source": [
        "#14. Identifica los valores máximos, mínimos y medios en d. Asigna esos valores a las variables \"d_max\", \"d_min\" y \"d_mean\"\n",
        "d_max = np.max(d)\n",
        "d_min = np.min(d)\n",
        "d_mean = np.mean(d)\n",
        "print(\"Máximo = \", d_max)\n",
        "print(\"Mínimo = \", d_min)\n",
        "print(\"Media = \", d_mean)"
      ],
      "metadata": {
        "colab": {
          "base_uri": "https://localhost:8080/"
        },
        "id": "ha4x5peloLHN",
        "outputId": "ccf96576-c029-452f-acf0-0a539e3da744"
      },
      "execution_count": 103,
      "outputs": [
        {
          "output_type": "stream",
          "name": "stdout",
          "text": [
            "Máximo =  10.0\n",
            "Mínimo =  1.0\n",
            "Media =  5.8\n"
          ]
        }
      ]
    },
    {
      "cell_type": "code",
      "source": [
        "#15. Ahora queremos etiquetar los valores en d. Primero crea un array vacío \"f\" con la misma forma (es decir, 2x3x5) que d usando `np.empty`.\n",
        "f = np.empty([2,3,5])\n",
        "f"
      ],
      "metadata": {
        "colab": {
          "base_uri": "https://localhost:8080/"
        },
        "id": "U2s4EIF2oLD7",
        "outputId": "7bfbbd61-935b-4089-e827-cf9e1b20973d"
      },
      "execution_count": 104,
      "outputs": [
        {
          "output_type": "execute_result",
          "data": {
            "text/plain": [
              "array([[[7., 8., 6., 5., 0.],\n",
              "        [8., 6., 7., 2., 3.],\n",
              "        [3., 3., 0., 1., 1.]],\n",
              "\n",
              "       [[4., 4., 1., 9., 9.],\n",
              "        [3., 5., 0., 9., 1.],\n",
              "        [6., 6., 5., 3., 2.]]])"
            ]
          },
          "metadata": {},
          "execution_count": 104
        }
      ]
    },
    {
      "cell_type": "code",
      "source": [
        "\"\"\"\n",
        "#16. Rellena los valores en f. Para cada valor en d, si es mayor que d_min pero menor que d_mean, asigna 25 al valor correspondiente en f.\n",
        "Si un valor en d es mayor que d_mean pero menor que d_max, asigna 75 al valor correspondiente en f.\n",
        "Si un valor es igual a d_mean, asigna 50 al valor correspondiente en f.\n",
        "Asigna 0 al valor correspondiente(s) en f para d_min en d.\n",
        "Asigna 100 al valor correspondiente(s) en f para d_max en d.\n",
        "Al final, f debería tener solo los siguientes valores: 0, 25, 50, 75 y 100.\n",
        "Nota: no necesitas usar Numpy en esta pregunta.\n",
        "\"\"\"\n",
        "\n",
        "## FORMA 1: ITERANDO SOBRE LOS ELEMENTOS\n",
        "# Se iteran las dos matrices.\n",
        "for m, matrix in enumerate(d):\n",
        "  # Se iteran las tres filas.\n",
        "  for r, row in enumerate(matrix):\n",
        "   # Se iteran los cinco elementos de cada fila (las columnas).\n",
        "    for c, element in enumerate(row):\n",
        "        if d_min < element < d_mean:\n",
        "            f[m,r,c] = 25\n",
        "        elif d_mean < element < d_max:\n",
        "            f[m,r,c] = 75\n",
        "        elif element == d_mean:\n",
        "            f[m,r,c] = 50\n",
        "        elif element == d_min:\n",
        "            f[m,r,c] = 0\n",
        "        else: #element == d_max\n",
        "            f[m,r,c] = 100\n",
        "\n",
        "## FORMA 2: ASIGNANDO CON MÁSCARAS SOBRE LOS ELEMENTOS\n",
        "f[(d > d_min) & (d < d_mean)] = 25\n",
        "f[(d > d_mean) & (d < d_max)] = 75\n",
        "f[d == d_mean] = 50\n",
        "f[d == d_min] = 0\n",
        "f[d == d_max] = 100"
      ],
      "metadata": {
        "id": "iS5EYXCroLBw"
      },
      "execution_count": 118,
      "outputs": []
    },
    {
      "cell_type": "code",
      "source": [
        "#17. Imprime d y f. ¿Tienes el f esperado?\n",
        "\"\"\"Por ejemplo, si tu d es:\n",
        "array([[[1.85836099, 1.67064465, 1.62576044, 1.40243961, 1.88454931],\n",
        "        [1.75354326, 1.69403643, 1.36729252, 1.61415071, 1.12104981],\n",
        "        [1.72201435, 1.1862918 , 1.87078449, 1.7726778 , 1.88180042]],\n",
        "\n",
        "       [[1.44747908, 1.31673383, 1.02000951, 1.52218947, 1.97066381],\n",
        "        [1.79129243, 1.74983003, 1.96028037, 1.85166831, 1.65450881],\n",
        "        [1.18068344, 1.9587381 , 1.00656599, 1.93402165, 1.73514584]]])\n",
        "\n",
        "Tu f debería ser:\n",
        "array([[[ 75.,  75.,  75.,  25.,  75.],\n",
        "        [ 75.,  75.,  25.,  25.,  25.],\n",
        "        [ 75.,  25.,  75.,  75.,  75.]],\n",
        "\n",
        "       [[ 25.,  25.,  25.,  25., 100.],\n",
        "        [ 75.,  75.,  75.,  75.,  75.],\n",
        "        [ 25.,  75.,   0.,  75.,  75.]]])\"\"\"\n",
        "print(\"Máximo = \", d_max)\n",
        "print(\"Mínimo = \", d_min)\n",
        "print(\"Media = \", d_mean)\n",
        "print(d)\n",
        "print(f)\n",
        "# El resultado es el esperado"
      ],
      "metadata": {
        "colab": {
          "base_uri": "https://localhost:8080/"
        },
        "id": "RVoDToXHoQ1_",
        "outputId": "d44620d1-d426-424a-d042-7fcd047b1d58"
      },
      "execution_count": 117,
      "outputs": [
        {
          "output_type": "stream",
          "name": "stdout",
          "text": [
            "Máximo =  10.0\n",
            "Mínimo =  1.0\n",
            "Media =  5.8\n",
            "[[[ 6.  1.  8.  4.  1.]\n",
            "  [ 3.  7. 10.  3.  5.]\n",
            "  [ 3.  1.  3.  9.  9.]]\n",
            "\n",
            " [[ 6.  8.  4.  5.  8.]\n",
            "  [ 8. 10.  4.  6.  4.]\n",
            "  [ 8.  9.  6. 10.  5.]]]\n",
            "[[[ 75.   0.  75.  25.   0.]\n",
            "  [ 25.  75. 100.  25.  25.]\n",
            "  [ 25.   0.  25.  75.  75.]]\n",
            "\n",
            " [[ 75.  75.  25.  25.  75.]\n",
            "  [ 75. 100.  25.  75.  25.]\n",
            "  [ 75.  75.  75. 100.  25.]]]\n"
          ]
        }
      ]
    },
    {
      "cell_type": "code",
      "source": [
        "\"\"\"\n",
        "#18. Pregunta de bonificación: en lugar de usar números (es decir, 0, 25, 50, 75 y 100), ¿cómo usar valores de cadena\n",
        "(\"A\", \"B\", \"C\", \"D\" y \"E\") para etiquetar los elementos del array? Esperas el resultado sea:\n",
        "array([[[ 'D',  'D',  'D',  'B',  'D'],\n",
        "        [ 'D',  'D',  'B',  'B',  'B'],\n",
        "        [ 'D',  'B',  'D',  'D',  'D']],\n",
        "\n",
        "       [[ 'B',  'B',  'B',  'B',  'E'],\n",
        "        [ 'D',  'D',  'D',  'D',  'D'],\n",
        "        [ 'B',  'D',   'A',  'D', 'D']]])\n",
        "De nuevo, no necesitas Numpy en esta pregunta.\n",
        "\"\"\"\n",
        "\n",
        "\"\"\" Criterios de Conversión\n",
        "0 → \"A\"\n",
        "25 → \"B\"\n",
        "50 → \"C\"\n",
        "75 → \"D\"\n",
        "100 → \"E\" \"\"\"\n",
        "\n",
        "g = np.empty_like(f, dtype=str)  # Crear un array de cadenas con el mismo tamaño\n",
        "g[f == 0] = 'A'\n",
        "g[f == 25] = 'B'\n",
        "g[f == 50] = 'C'\n",
        "g[f == 75] = 'D'\n",
        "g[f == 100] = 'E'\n",
        "\n",
        "print(g)"
      ],
      "metadata": {
        "colab": {
          "base_uri": "https://localhost:8080/"
        },
        "id": "w1SHAiVAoQyY",
        "outputId": "9c91dd92-5758-49da-fc13-655a76a6bb56"
      },
      "execution_count": 115,
      "outputs": [
        {
          "output_type": "stream",
          "name": "stdout",
          "text": [
            "[[['D' 'A' 'D' 'B' 'A']\n",
            "  ['B' 'D' 'E' 'B' 'B']\n",
            "  ['B' 'A' 'B' 'D' 'D']]\n",
            "\n",
            " [['D' 'D' 'B' 'B' 'D']\n",
            "  ['D' 'E' 'B' 'D' 'B']\n",
            "  ['D' 'D' 'D' 'E' 'B']]]\n"
          ]
        }
      ]
    }
  ]
}