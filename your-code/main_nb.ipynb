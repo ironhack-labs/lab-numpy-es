{
 "cells": [
  {
   "cell_type": "code",
   "execution_count": 1,
   "id": "964bbd64-2b8a-4ab9-942f-92d859658614",
   "metadata": {
    "tags": []
   },
   "outputs": [],
   "source": [
    "#1. Importa el paquete NUMPY bajo el nombre np.\n",
    "\n",
    "import numpy as np"
   ]
  },
  {
   "cell_type": "code",
   "execution_count": 2,
   "id": "17b9e22f-4644-4f79-a557-b8dbd8ba0a92",
   "metadata": {
    "tags": []
   },
   "outputs": [
    {
     "data": {
      "text/plain": [
       "'1.26.4'"
      ]
     },
     "execution_count": 2,
     "metadata": {},
     "output_type": "execute_result"
    }
   ],
   "source": [
    "#2. Imprime la versión de NUMPY y la configuración.\n",
    "\n",
    "np.__version__"
   ]
  },
  {
   "cell_type": "code",
   "execution_count": 3,
   "id": "ed7b474f-308d-48b5-a0cd-7c08530a818b",
   "metadata": {
    "tags": []
   },
   "outputs": [],
   "source": [
    "#3. Genera un array tridimensional de 2x3x5 con valores aleatorios. Asigna el array a la variable \"a\"\n",
    "# Desafío: hay al menos tres maneras fáciles que usan numpy para generar arrays aleatorios. ¿Cuántas formas puedes encontrar?\n",
    "\n",
    "a = np.random.randint(0,100,(2,3,5))"
   ]
  },
  {
   "cell_type": "code",
   "execution_count": 4,
   "id": "8ddd745d-0c7c-4a6f-ad6a-895a1be2aca1",
   "metadata": {
    "tags": []
   },
   "outputs": [
    {
     "name": "stdout",
     "output_type": "stream",
     "text": [
      "[[[44  8 76 44 28]\n",
      "  [81 41 93 49 29]\n",
      "  [12 49  6 75 38]]\n",
      "\n",
      " [[11  7 72  6 27]\n",
      "  [68 42 76 95  4]\n",
      "  [73 99 50 15 77]]]\n"
     ]
    }
   ],
   "source": [
    "#4. Imprime a.\n",
    "\n",
    "print(a)"
   ]
  },
  {
   "cell_type": "code",
   "execution_count": 5,
   "id": "db4653b5-b543-49c2-b576-90276ec8c050",
   "metadata": {
    "tags": []
   },
   "outputs": [],
   "source": [
    "#5. Crea un array tridimensional de 5x2x3 con todos los valores igual a 1.\n",
    "#Asigna el array a la variable \"b\"\n",
    "\n",
    "b = np.ones((5,2,3))"
   ]
  },
  {
   "cell_type": "code",
   "execution_count": 6,
   "id": "2ba334d9-1214-4b9e-9acb-f2373c0e328e",
   "metadata": {
    "tags": []
   },
   "outputs": [
    {
     "name": "stdout",
     "output_type": "stream",
     "text": [
      "[[[1. 1. 1.]\n",
      "  [1. 1. 1.]]\n",
      "\n",
      " [[1. 1. 1.]\n",
      "  [1. 1. 1.]]\n",
      "\n",
      " [[1. 1. 1.]\n",
      "  [1. 1. 1.]]\n",
      "\n",
      " [[1. 1. 1.]\n",
      "  [1. 1. 1.]]\n",
      "\n",
      " [[1. 1. 1.]\n",
      "  [1. 1. 1.]]]\n"
     ]
    }
   ],
   "source": [
    "#6. Imprime b.\n",
    "\n",
    "print(b)"
   ]
  },
  {
   "cell_type": "code",
   "execution_count": 7,
   "id": "f5d91859-c278-4a61-8c53-ca509d38c12e",
   "metadata": {
    "tags": []
   },
   "outputs": [
    {
     "name": "stdout",
     "output_type": "stream",
     "text": [
      "Es la forma de a igual a la de b?\n",
      "False\n",
      "Tienen las mismas dimensiones a y b?\n",
      "True\n",
      "Tienen el mismo tamaño a y b?\n",
      "True\n"
     ]
    }
   ],
   "source": [
    "#7. ¿Tienen a y b el mismo tamaño? ¿Cómo lo demuestras en código Python?\n",
    "\n",
    "print(f\"Es la forma de a igual a la de b?\\n{a.shape == b.shape}\")\n",
    "print(f\"Tienen las mismas dimensiones a y b?\\n{a.ndim == b.ndim}\")\n",
    "print(f\"Tienen el mismo tamaño a y b?\\n{a.size == b.size}\")"
   ]
  },
  {
   "cell_type": "code",
   "execution_count": 8,
   "id": "3530220d-e33b-45e3-9d0a-f38295669977",
   "metadata": {
    "tags": []
   },
   "outputs": [
    {
     "name": "stdout",
     "output_type": "stream",
     "text": [
      "print(a + b)\n",
      "---------ValueError-------------- \n",
      "Sólo podemos sumar arrays que tengan la misma forma.\n"
     ]
    }
   ],
   "source": [
    "#8. ¿Es posible sumar a y b? ¿Por qué sí o por qué no?\n",
    "\n",
    "print(\"print(a + b)\")\n",
    "print(\"---------ValueError-------------- \")\n",
    "print(\"Sólo podemos sumar arrays que tengan la misma forma.\")"
   ]
  },
  {
   "cell_type": "code",
   "execution_count": 9,
   "id": "165faa4a-672a-4c28-8b2b-3bd3c0d6ffbc",
   "metadata": {
    "tags": []
   },
   "outputs": [],
   "source": [
    "#9. Transpon b para que tenga la misma estructura que a (es decir, se convierta en un array de 2x3x5). Asigna el array transpuesto a la variable \"c\".\n",
    "\n",
    "c = b.reshape(2,3,5)"
   ]
  },
  {
   "cell_type": "code",
   "execution_count": 10,
   "id": "cec360ee-f875-4968-b943-e5845ce3b0b7",
   "metadata": {
    "tags": []
   },
   "outputs": [
    {
     "name": "stdout",
     "output_type": "stream",
     "text": [
      "[[[ 45.   9.  77.  45.  29.]\n",
      "  [ 82.  42.  94.  50.  30.]\n",
      "  [ 13.  50.   7.  76.  39.]]\n",
      "\n",
      " [[ 12.   8.  73.   7.  28.]\n",
      "  [ 69.  43.  77.  96.   5.]\n",
      "  [ 74. 100.  51.  16.  78.]]]\n",
      "Tienen la misma forma\n"
     ]
    }
   ],
   "source": [
    "#10. Intenta sumar a y c. Ahora debería funcionar. Asigna la suma a la variable \"d\". Pero, ¿por qué funciona ahora?\n",
    "d = a + c\n",
    "print(d)\n",
    "print(\"Tienen la misma forma\")"
   ]
  },
  {
   "cell_type": "code",
   "execution_count": 11,
   "id": "a2e99428-3c04-4223-a890-69165b2a68fe",
   "metadata": {
    "tags": []
   },
   "outputs": [
    {
     "name": "stdout",
     "output_type": "stream",
     "text": [
      "[[[44  8 76 44 28]\n",
      "  [81 41 93 49 29]\n",
      "  [12 49  6 75 38]]\n",
      "\n",
      " [[11  7 72  6 27]\n",
      "  [68 42 76 95  4]\n",
      "  [73 99 50 15 77]]]\n",
      "[[[ 45.   9.  77.  45.  29.]\n",
      "  [ 82.  42.  94.  50.  30.]\n",
      "  [ 13.  50.   7.  76.  39.]]\n",
      "\n",
      " [[ 12.   8.  73.   7.  28.]\n",
      "  [ 69.  43.  77.  96.   5.]\n",
      "  [ 74. 100.  51.  16.  78.]]]\n",
      "Todos los elementos de \"d\" son uno más que los de \"a\" porque hemos sumado \"c\" que es un array de unos\n"
     ]
    }
   ],
   "source": [
    "#11. Imprime a y d. ¿Notas la diferencia y la relación entre los dos arrays en términos de los valores? Explica.\n",
    "\n",
    "print(a)\n",
    "print(d)\n",
    "print('Todos los elementos de \"d\" son uno más que los de \"a\" porque hemos sumado \"c\" que es un array de unos')\n"
   ]
  },
  {
   "cell_type": "code",
   "execution_count": 12,
   "id": "b8181faf-ac96-4877-bd19-ba265c3b3001",
   "metadata": {
    "tags": []
   },
   "outputs": [],
   "source": [
    "#12. Multiplica a y c. Asigna el resultado a e.\n",
    "\n",
    "e = a * c"
   ]
  },
  {
   "cell_type": "code",
   "execution_count": 13,
   "id": "ea21503b-cf45-4040-b682-951f624a250a",
   "metadata": {
    "tags": []
   },
   "outputs": [
    {
     "name": "stdout",
     "output_type": "stream",
     "text": [
      "[[[44.  8. 76. 44. 28.]\n",
      "  [81. 41. 93. 49. 29.]\n",
      "  [12. 49.  6. 75. 38.]]\n",
      "\n",
      " [[11.  7. 72.  6. 27.]\n",
      "  [68. 42. 76. 95.  4.]\n",
      "  [73. 99. 50. 15. 77.]]]\n",
      "Es exactamente igual a \"a\" pq hemos multiplicados todos sus elementos por 1\n"
     ]
    }
   ],
   "source": [
    "#13. ¿Es e igual a a? ¿Por qué sí o por qué no?\n",
    "\n",
    "print(e)\n",
    "print('Es exactamente igual a \"a\" pq hemos multiplicados todos sus elementos por 1')"
   ]
  },
  {
   "cell_type": "code",
   "execution_count": 14,
   "id": "97d93870-6381-4400-acf6-86ce67360982",
   "metadata": {
    "tags": []
   },
   "outputs": [
    {
     "name": "stdout",
     "output_type": "stream",
     "text": [
      "'d': [[[ 45.   9.  77.  45.  29.]\n",
      "  [ 82.  42.  94.  50.  30.]\n",
      "  [ 13.  50.   7.  76.  39.]]\n",
      "\n",
      " [[ 12.   8.  73.   7.  28.]\n",
      "  [ 69.  43.  77.  96.   5.]\n",
      "  [ 74. 100.  51.  16.  78.]]]\n",
      "d_max: 100.0\n",
      "d_min: 5.0\n",
      "d_mean: 47.50\n"
     ]
    }
   ],
   "source": [
    "#14. Identifica los valores máximos, mínimos y medios en d. Asigna esos valores a las variables \"d_max\", \"d_min\" y \"d_mean\"\n",
    "\n",
    "d_max = np.max(d)\n",
    "d_min = np.min(d)\n",
    "d_mean = np.mean(d)\n",
    "\n",
    "print(f\"'d': {d}\")\n",
    "print(f\"d_max: {d_max}\")\n",
    "print(f\"d_min: {d_min}\")\n",
    "print(f\"d_mean: {d_mean:.2f}\")"
   ]
  },
  {
   "cell_type": "code",
   "execution_count": 15,
   "id": "c0cb6ceb-99c0-48f8-ae4f-6b4aae04ab5e",
   "metadata": {
    "tags": []
   },
   "outputs": [],
   "source": [
    "#15. Ahora queremos etiquetar los valores en d. Primero crea un array vacío \"f\" con la misma forma (es decir, 2x3x5) que d usando `np.empty`.\n",
    "\n",
    "f = np.empty((2,3,5))"
   ]
  },
  {
   "cell_type": "code",
   "execution_count": 16,
   "id": "9ea9512d-820b-4f0a-bed9-db316570f45d",
   "metadata": {
    "tags": []
   },
   "outputs": [],
   "source": [
    "\"\"\"\n",
    "#16. Rellena los valores en f. Para cada valor en d, si es mayor que d_min pero menor que d_mean, asigna 25 al valor correspondiente en f.\n",
    "Si un valor en d es mayor que d_mean pero menor que d_max, asigna 75 al valor correspondiente en f.\n",
    "Si un valor es igual a d_mean, asigna 50 al valor correspondiente en f.\n",
    "Asigna 0 al valor correspondiente(s) en f para d_min en d.\n",
    "Asigna 100 al valor correspondiente(s) en f para d_max en d.\n",
    "Al final, f debería tener solo los siguientes valores: 0, 25, 50, 75 y 100.\n",
    "Nota: no necesitas usar Numpy en esta pregunta.\n",
    "\"\"\"\n",
    "\n",
    "for i in range(len(f)):\n",
    "    for j in range(len(f[i])):\n",
    "        for k in range(len(f[i][j])):\n",
    "            element = f[i][j][k]            \n",
    "            if element > d_min and element < d_mean:\n",
    "                f[i][j][k] = 25\n",
    "            elif element > d_mean and element < d_max:\n",
    "                f[i][j][k] = 75\n",
    "            elif element == d_mean:\n",
    "                f[i][j][k] = 50\n",
    "            elif element == d_min:\n",
    "                f[i][j][k] = 0\n",
    "            elif element == d_max:\n",
    "                f[i][j][k] = 100"
   ]
  },
  {
   "cell_type": "code",
   "execution_count": 17,
   "id": "b21f9f4f-d590-47b6-9795-dbfa24faf163",
   "metadata": {
    "tags": []
   },
   "outputs": [
    {
     "name": "stdout",
     "output_type": "stream",
     "text": [
      "[[[ 45.   9.  77.  45.  29.]\n",
      "  [ 82.  42.  94.  50.  30.]\n",
      "  [ 13.  50.   7.  76.  39.]]\n",
      "\n",
      " [[ 12.   8.  73.   7.  28.]\n",
      "  [ 69.  43.  77.  96.   5.]\n",
      "  [ 74. 100.  51.  16.  78.]]]\n",
      "[[[ 25.  25.  75.  25.  25.]\n",
      "  [ 75.  25.  75.  75.  25.]\n",
      "  [ 25.  75.  25.  75.  25.]]\n",
      "\n",
      " [[ 25.  25.  75.  25.  25.]\n",
      "  [ 75.  25.  75.  75.   0.]\n",
      "  [ 75. 100.  75.  25.  75.]]]\n"
     ]
    }
   ],
   "source": [
    "\"\"\"\n",
    "#17. Imprime d y f. ¿Tienes el f esperado?\n",
    "Por ejemplo, si tu d es:\n",
    "array([[[1.85836099, 1.67064465, 1.62576044, 1.40243961, 1.88454931],\n",
    "        [1.75354326, 1.69403643, 1.36729252, 1.61415071, 1.12104981],\n",
    "        [1.72201435, 1.1862918 , 1.87078449, 1.7726778 , 1.88180042]],\n",
    "\n",
    "       [[1.44747908, 1.31673383, 1.02000951, 1.52218947, 1.97066381],\n",
    "        [1.79129243, 1.74983003, 1.96028037, 1.85166831, 1.65450881],\n",
    "        [1.18068344, 1.9587381 , 1.00656599, 1.93402165, 1.73514584]]])\n",
    "\n",
    "Tu f debería ser:\n",
    "array([[[ 75.,  75.,  75.,  25.,  75.],\n",
    "        [ 75.,  75.,  25.,  25.,  25.],\n",
    "        [ 75.,  25.,  75.,  75.,  75.]],\n",
    "\n",
    "       [[ 25.,  25.,  25.,  25., 100.],\n",
    "        [ 75.,  75.,  75.,  75.,  75.],\n",
    "        [ 25.,  75.,   0.,  75.,  75.]]])\n",
    "\"\"\"\n",
    "\n",
    "print(d)\n",
    "print(f)"
   ]
  },
  {
   "cell_type": "code",
   "execution_count": 18,
   "id": "0aa0fbce-1115-45ae-92f0-db00730df7b2",
   "metadata": {
    "tags": []
   },
   "outputs": [
    {
     "data": {
      "text/plain": [
       "[[['B', 'B', 'D', 'B', 'B'],\n",
       "  ['D', 'B', 'D', 'D', 'B'],\n",
       "  ['B', 'D', 'B', 'D', 'B']],\n",
       " [['B', 'B', 'D', 'B', 'B'],\n",
       "  ['D', 'B', 'D', 'D', 'A'],\n",
       "  ['D', 'E', 'D', 'B', 'D']]]"
      ]
     },
     "execution_count": 18,
     "metadata": {},
     "output_type": "execute_result"
    }
   ],
   "source": [
    "\"\"\"\n",
    "#18. Pregunta de bonificación: en lugar de usar números (es decir, 0, 25, 50, 75 y 100), ¿cómo usar valores de cadena \n",
    "(\"A\", \"B\", \"C\", \"D\" y \"E\") para etiquetar los elementos del array? Esperas el resultado sea:\n",
    "array([[[ 'D',  'D',  'D',  'B',  'D'],\n",
    "        [ 'D',  'D',  'B',  'B',  'B'],\n",
    "        [ 'D',  'B',  'D',  'D',  'D']],\n",
    "\n",
    "       [[ 'B',  'B',  'B',  'B',  'E'],\n",
    "        [ 'D',  'D',  'D',  'D',  'D'],\n",
    "        [ 'B',  'D',   'A',  'D', 'D']]])\n",
    "De nuevo, no necesitas Numpy en esta pregunta.\n",
    "\"\"\"\n",
    "\n",
    "f_dict = {\"A\":0, \"B\":25, \"C\":50, \"D\":75, \"E\":100}\n",
    "\n",
    "def get_label(value, f_dict):\n",
    "    if value == f_dict[\"A\"]:\n",
    "        return \"A\"\n",
    "    elif value == f_dict[\"B\"]:\n",
    "        return \"B\"\n",
    "    elif value == f_dict[\"C\"]:\n",
    "        return \"C\"\n",
    "    elif value == f_dict[\"D\"]:\n",
    "        return \"D\"\n",
    "    elif value == f_dict[\"E\"]:\n",
    "        return \"E\"\n",
    "    \n",
    "f_labeled = [[[get_label(value, f_dict) for value in row] for row in matrix] for matrix in f]\n",
    "f_labeled\n",
    "\n"
   ]
  },
  {
   "cell_type": "code",
   "execution_count": null,
   "id": "8c5f8f8b-d937-4abe-b32b-edac38518399",
   "metadata": {
    "tags": []
   },
   "outputs": [],
   "source": []
  },
  {
   "cell_type": "code",
   "execution_count": null,
   "id": "3ee062ce-6f8c-4bf2-8824-80d08ea145bd",
   "metadata": {
    "tags": []
   },
   "outputs": [],
   "source": []
  },
  {
   "cell_type": "code",
   "execution_count": null,
   "id": "6767089c-3912-4435-96c1-f73be4927e23",
   "metadata": {},
   "outputs": [],
   "source": []
  }
 ],
 "metadata": {
  "kernelspec": {
   "display_name": "Python 3 (ipykernel)",
   "language": "python",
   "name": "python3"
  },
  "language_info": {
   "codemirror_mode": {
    "name": "ipython",
    "version": 3
   },
   "file_extension": ".py",
   "mimetype": "text/x-python",
   "name": "python",
   "nbconvert_exporter": "python",
   "pygments_lexer": "ipython3",
   "version": "3.11.9"
  }
 },
 "nbformat": 4,
 "nbformat_minor": 5
}
